{
 "cells": [
  {
   "cell_type": "code",
   "execution_count": 1,
   "id": "79b61530",
   "metadata": {},
   "outputs": [],
   "source": [
    "import sys\n",
    "import pathlib\n",
    "from itertools import product, tee\n",
    "from dataclasses import dataclass\n",
    "from typing import Tuple, List, Optional\n",
    "import math"
   ]
  },
  {
   "cell_type": "code",
   "execution_count": 8,
   "id": "a07d1cc3",
   "metadata": {},
   "outputs": [],
   "source": [
    "import pandas as pd\n",
    "import geopandas as gpd\n",
    "import matplotlib.pyplot as plt\n",
    "import matplotlib as mpl\n",
    "import networkx as nx\n",
    "import numpy as np\n",
    "import momepy\n",
    "from shapely import geometry, ops\n",
    "from shapely.geometry import LineString\n",
    "from tqdm.auto import tqdm"
   ]
  },
  {
   "cell_type": "code",
   "execution_count": 2,
   "id": "52567870",
   "metadata": {},
   "outputs": [],
   "source": [
    "%load_ext autoreload\n",
    "%autoreload 2"
   ]
  },
  {
   "cell_type": "code",
   "execution_count": 3,
   "id": "3a48ea98",
   "metadata": {},
   "outputs": [],
   "source": [
    "sys.path.append(\"..\")"
   ]
  },
  {
   "cell_type": "code",
   "execution_count": 21,
   "id": "e7dbb6f6",
   "metadata": {},
   "outputs": [],
   "source": [
    "from src.preprocess import transform_df_to_trajectory_gdf\n",
    "from src.visualize import random_colors\n",
    "from src.trajectory import Trajectory\n",
    "from src.opendd import extract_samples_from_sqlite"
   ]
  },
  {
   "cell_type": "code",
   "execution_count": 48,
   "id": "70844f40",
   "metadata": {},
   "outputs": [],
   "source": [
    "mpl.rcParams[\"figure.facecolor\"] = \"w\""
   ]
  },
  {
   "cell_type": "code",
   "execution_count": 49,
   "id": "8be8d2f3",
   "metadata": {},
   "outputs": [],
   "source": [
    "FIGURES_PATH = pathlib.Path(\"../reports/figures\")"
   ]
  },
  {
   "cell_type": "markdown",
   "id": "4f6a02e8",
   "metadata": {},
   "source": [
    "# Extract reference paths"
   ]
  },
  {
   "cell_type": "code",
   "execution_count": 53,
   "id": "78aeed58",
   "metadata": {},
   "outputs": [],
   "source": [
    "from src.path_extraction import visualize_traffic_lanes, traffic_lanes_to_graph, \\\n",
    "    extract_paths_from_graph, driving_path_overview_plot"
   ]
  },
  {
   "cell_type": "code",
   "execution_count": 56,
   "id": "03f1e3b2",
   "metadata": {},
   "outputs": [],
   "source": [
    "reference_path_lookup = dict()"
   ]
  },
  {
   "cell_type": "code",
   "execution_count": 57,
   "id": "45563152",
   "metadata": {
    "scrolled": false
   },
   "outputs": [
    {
     "name": "stdout",
     "output_type": "stream",
     "text": [
      "Extracting reference paths from 'rdb1'\n",
      "Extracting reference paths from 'rdb2'\n",
      "Extracting reference paths from 'rdb3'\n"
     ]
    }
   ],
   "source": [
    "for roundabout_dir in ROUNDABOUT_DIRS:\n",
    "    \n",
    "    roundabout_name = roundabout_dir.name\n",
    "    print(f\"Extracting reference paths from '{roundabout_name}'\")\n",
    "    \n",
    "    shapefiles_trafficlanes_path = roundabout_dir / f\"map_{roundabout_name}/shapefiles_trafficlanes\"\n",
    "    \n",
    "    trafficlanes = gpd.read_file(shapefiles_trafficlanes_path)\n",
    "    \n",
    "    G = traffic_lanes_to_graph(trafficlanes)\n",
    "    \n",
    "    paths = extract_paths_from_graph(G)\n",
    "    \n",
    "    # save in lookup\n",
    "    reference_path_lookup[roundabout_name] = paths\n",
    "    \n",
    "    fig = driving_path_overview_plot(trafficlanes, paths)\n",
    "    fig.suptitle(roundabout_name, y=1.01, fontsize=15)\n",
    "    \n",
    "    # save images\n",
    "    roundabout_paths_overview_plot_path = FIGURES_PATH / f\"{roundabout_name}_reference_paths.png\"\n",
    "    fig.savefig(roundabout_paths_overview_plot_path, dpi=200)\n",
    "    plt.close(fig)\n",
    "    "
   ]
  },
  {
   "cell_type": "markdown",
   "id": "9d912645",
   "metadata": {},
   "source": [
    "# Read data"
   ]
  },
  {
   "cell_type": "code",
   "execution_count": 33,
   "id": "bb78a9af",
   "metadata": {},
   "outputs": [],
   "source": [
    "RAW_DATA_PATH = pathlib.Path(\"../data/raw\")\n",
    "INTERIM_DATA_PATH = pathlib.Path(\"../data/interim\")"
   ]
  },
  {
   "cell_type": "code",
   "execution_count": 36,
   "id": "36e7abf7",
   "metadata": {},
   "outputs": [],
   "source": [
    "ROUNDABOUT_DIRS = list(RAW_DATA_PATH.rglob(r\"rdb[1-9]\"))"
   ]
  },
  {
   "cell_type": "code",
   "execution_count": 35,
   "id": "10052782",
   "metadata": {},
   "outputs": [
    {
     "name": "stdout",
     "output_type": "stream",
     "text": [
      "Extracting 'rdb1'\n",
      "Found 153 measurements\n"
     ]
    },
    {
     "name": "stderr",
     "output_type": "stream",
     "text": [
      "100%|██████████████████████████████████████████████████████████████████████████████████████████████████████████████████████████████████████████████████████████████████████████████████| 153/153 [02:14<00:00,  1.13it/s]\n"
     ]
    },
    {
     "name": "stdout",
     "output_type": "stream",
     "text": [
      "Extracting 'rdb2'\n",
      "Found 56 measurements\n"
     ]
    },
    {
     "name": "stderr",
     "output_type": "stream",
     "text": [
      "100%|████████████████████████████████████████████████████████████████████████████████████████████████████████████████████████████████████████████████████████████████████████████████████| 56/56 [00:32<00:00,  1.71it/s]\n"
     ]
    },
    {
     "name": "stdout",
     "output_type": "stream",
     "text": [
      "Extracting 'rdb3'\n",
      "Found 54 measurements\n"
     ]
    },
    {
     "name": "stderr",
     "output_type": "stream",
     "text": [
      "100%|████████████████████████████████████████████████████████████████████████████████████████████████████████████████████████████████████████████████████████████████████████████████████| 54/54 [00:24<00:00,  2.23it/s]\n"
     ]
    }
   ],
   "source": [
    "for roundabout_dir in ROUNDABOUT_DIRS:\n",
    "    \n",
    "    roundabout_name = roundabout_dir.name\n",
    "    print(f\"Extracting '{roundabout_name}'\")\n",
    "    \n",
    "    # Extract database\n",
    "    roundabout_db = list(roundabout_dir.glob(\"*.sqlite\"))[0]    \n",
    "    df_roundabout = extract_samples_from_sqlite(roundabout_db)\n",
    "    \n",
    "    # Save to disk\n",
    "    output_path_roundabout = INTERIM_DATA_PATH / f\"{roundabout_name}.parquet\"\n",
    "    df_roundabout.to_parquet(output_path_roundabout)"
   ]
  },
  {
   "cell_type": "code",
   "execution_count": null,
   "id": "dd3b66eb",
   "metadata": {},
   "outputs": [],
   "source": []
  }
 ],
 "metadata": {
  "kernelspec": {
   "display_name": "Python 3 (ipykernel)",
   "language": "python",
   "name": "python3"
  },
  "language_info": {
   "codemirror_mode": {
    "name": "ipython",
    "version": 3
   },
   "file_extension": ".py",
   "mimetype": "text/x-python",
   "name": "python",
   "nbconvert_exporter": "python",
   "pygments_lexer": "ipython3",
   "version": "3.8.12"
  }
 },
 "nbformat": 4,
 "nbformat_minor": 5
}
