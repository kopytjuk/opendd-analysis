{
 "cells": [
  {
   "cell_type": "code",
   "execution_count": 1,
   "id": "ac6a8004-a1c7-40a5-a782-e391bd561990",
   "metadata": {},
   "outputs": [],
   "source": [
    "import sys\n",
    "import pathlib"
   ]
  },
  {
   "cell_type": "code",
   "execution_count": 2,
   "id": "9f2b6133-3864-470a-b74c-e26d47596753",
   "metadata": {},
   "outputs": [],
   "source": [
    "import pandas as pd\n",
    "import geopandas as gpd\n",
    "import matplotlib.pyplot as plt\n",
    "from matplotlib.animation import FFMpegWriter\n",
    "from tqdm.auto import tqdm"
   ]
  },
  {
   "cell_type": "code",
   "execution_count": 3,
   "id": "3c18b212-4696-4826-a406-f06ad4d5394a",
   "metadata": {},
   "outputs": [],
   "source": [
    "%load_ext autoreload\n",
    "%autoreload 2"
   ]
  },
  {
   "cell_type": "code",
   "execution_count": 13,
   "id": "ac25f024-e418-49ac-b65c-b62917370a7e",
   "metadata": {},
   "outputs": [],
   "source": [
    "sys.path.append(\"..\")\n",
    "from src.preprocess import preprocess, discrete_timestep\n",
    "from src.utils import WorldDefinition, assign_color, point_to_bbox\n",
    "from src.visualize import visualize_objects, ObjectVisualization"
   ]
  },
  {
   "cell_type": "code",
   "execution_count": 71,
   "id": "88834aa8-e219-443d-8976-92fa0b2d99b3",
   "metadata": {},
   "outputs": [],
   "source": [
    "FREQUENCY = 30\n",
    "DURATION = 3"
   ]
  },
  {
   "cell_type": "code",
   "execution_count": 72,
   "id": "6698d162-1e79-4801-9129-5d32cadadba5",
   "metadata": {},
   "outputs": [],
   "source": [
    "data_path = \"../data/raw/rdb1.parquet\"\n",
    "df = pd.read_parquet(data_path)"
   ]
  },
  {
   "cell_type": "code",
   "execution_count": null,
   "id": "22378528-57e2-4d50-9e20-7c2218ebf8f5",
   "metadata": {},
   "outputs": [],
   "source": [
    "df = df[df[\"table\"] == \"rdb1_1\"]"
   ]
  },
  {
   "cell_type": "code",
   "execution_count": null,
   "id": "3663768c-f5b2-470c-a78e-39f3ce579a9e",
   "metadata": {},
   "outputs": [],
   "source": [
    "df[\"k\"] = discrete_timestep(df, FREQUENCY)"
   ]
  },
  {
   "cell_type": "code",
   "execution_count": null,
   "id": "6cd22cfe-d220-4626-a6ce-cec575cfa1a3",
   "metadata": {},
   "outputs": [],
   "source": [
    "df = df[df[\"k\"] < FREQUENCY*DURATION]"
   ]
  },
  {
   "cell_type": "code",
   "execution_count": null,
   "id": "82532e70-bbab-4a35-80b2-b89c3841283a",
   "metadata": {},
   "outputs": [],
   "source": [
    "df = df.sort_values(\"k\")"
   ]
  },
  {
   "cell_type": "code",
   "execution_count": null,
   "id": "327bdd08-a81d-4ab4-990e-d85a2f23f11d",
   "metadata": {},
   "outputs": [],
   "source": [
    "gdf = gpd.GeoDataFrame(\n",
    "        df, geometry=gpd.points_from_xy(df[\"UTM_X\"], df[\"UTM_Y\"]), crs='EPSG:25832')"
   ]
  },
  {
   "cell_type": "code",
   "execution_count": null,
   "id": "f23c9ebe-9e73-4ec3-8757-d3e507e4c4ba",
   "metadata": {},
   "outputs": [],
   "source": [
    "gdf[\"bbox\"] = gdf.apply(lambda row:\n",
    "                            point_to_bbox(row.geometry, row[\"WIDTH\"],\n",
    "                                          row[\"LENGTH\"],\n",
    "                                          row[\"UTM_ANGLE\"],\n",
    "                                          as_linestring=True), axis=1)"
   ]
  },
  {
   "cell_type": "code",
   "execution_count": null,
   "id": "913956da-c441-424d-8878-183f763a2855",
   "metadata": {},
   "outputs": [],
   "source": [
    "gdf = gdf.set_geometry(\"bbox\")"
   ]
  },
  {
   "cell_type": "code",
   "execution_count": null,
   "id": "14fc89c0-9241-43e7-ac53-bddd9bf0951c",
   "metadata": {},
   "outputs": [],
   "source": [
    "gdf.head()"
   ]
  },
  {
   "cell_type": "code",
   "execution_count": null,
   "id": "e62cc24a-3c39-435e-afcd-d04d1d302372",
   "metadata": {},
   "outputs": [],
   "source": [
    "# get traffic lanes\n",
    "trafficlanes_shapefile = pathlib.Path(\"../data/raw/rdb1/map_rdb1/shapefiles_trafficlanes\")\n",
    "trafficlanes = gpd.read_file(trafficlanes_shapefile)"
   ]
  },
  {
   "cell_type": "code",
   "execution_count": null,
   "id": "ae460223-1d4c-4b88-8717-42ff78dac2eb",
   "metadata": {},
   "outputs": [],
   "source": [
    "world_def = WorldDefinition.from_pgw_file(pathlib.Path(r'..\\data\\raw\\rdb1\\geo-referenced_images_rdb1\\rdb1.pgw'))\n",
    "extent = world_def.get_image_extent(3840, 2160)"
   ]
  },
  {
   "cell_type": "code",
   "execution_count": null,
   "id": "1d2c5bd9-e1a0-4913-a9dc-fdf1a699a8a1",
   "metadata": {},
   "outputs": [],
   "source": [
    "gdf[\"color\"] = assign_color(gdf, column=\"OBJID\")"
   ]
  },
  {
   "cell_type": "code",
   "execution_count": null,
   "id": "30165e03-6320-4fa7-a481-1c17d9f1a2df",
   "metadata": {},
   "outputs": [],
   "source": [
    "gdf.head()"
   ]
  },
  {
   "cell_type": "code",
   "execution_count": null,
   "id": "dc479217-a3a8-4bd3-b0dd-4231b4c5bfa3",
   "metadata": {},
   "outputs": [],
   "source": [
    "fig, ax = plt.subplots(figsize=(16, 9), facecolor=\"w\")\n",
    "\n",
    "moviewriter = FFMpegWriter(FREQUENCY)\n",
    "\n",
    "with moviewriter.saving(fig, 'test.gif', dpi=200):\n",
    "    \n",
    "    for k, timestep_data in tqdm(gdf.groupby(\"k\"), total=gdf[\"k\"].nunique()):\n",
    "        ax.clear()\n",
    "        \n",
    "        ax.get_xaxis().set_visible(False)\n",
    "        ax.get_yaxis().set_visible(False)\n",
    "\n",
    "        objects = [ObjectVisualization(i, row[\"bbox\"], color=row[\"color\"]) for i, row in timestep_data.iterrows()]\n",
    "\n",
    "        visualize_objects(ax, objects, trafficlanes)\n",
    "\n",
    "        ax.set_xlim(extent[0], extent[1])\n",
    "        ax.set_ylim(extent[2], extent[3])\n",
    "\n",
    "        moviewriter.grab_frame()"
   ]
  },
  {
   "cell_type": "code",
   "execution_count": null,
   "id": "c0ff3682-e22a-43a1-b630-f2a413d13cbc",
   "metadata": {},
   "outputs": [],
   "source": []
  }
 ],
 "metadata": {
  "kernelspec": {
   "display_name": "Python 3 (ipykernel)",
   "language": "python",
   "name": "python3"
  },
  "language_info": {
   "codemirror_mode": {
    "name": "ipython",
    "version": 3
   },
   "file_extension": ".py",
   "mimetype": "text/x-python",
   "name": "python",
   "nbconvert_exporter": "python",
   "pygments_lexer": "ipython3",
   "version": "3.8.12"
  }
 },
 "nbformat": 4,
 "nbformat_minor": 5
}
