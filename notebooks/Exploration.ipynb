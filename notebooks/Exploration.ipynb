{
 "cells": [
  {
   "cell_type": "code",
   "execution_count": null,
   "id": "028c2c07-d7e8-46d3-8110-0941977dbde7",
   "metadata": {},
   "outputs": [],
   "source": [
    "import sqlite3\n",
    "import sys"
   ]
  },
  {
   "cell_type": "code",
   "execution_count": null,
   "id": "c69451f0-01c1-4127-beb0-f0901ec5e5cc",
   "metadata": {},
   "outputs": [],
   "source": [
    "import pandas as pd\n",
    "from tqdm import tqdm\n",
    "import numpy as np\n",
    "import seaborn as sns\n",
    "import matplotlib.pyplot as plt\n",
    "from scipy import stats\n",
    "from shapely import affinity\n",
    "import contextily as cx"
   ]
  },
  {
   "cell_type": "code",
   "execution_count": null,
   "id": "f41434b7-097e-44a2-b54e-209adcaeaab6",
   "metadata": {},
   "outputs": [],
   "source": [
    "%load_ext autoreload\n",
    "%autoreload 2"
   ]
  },
  {
   "cell_type": "code",
   "execution_count": null,
   "id": "1efabcf0-ce51-4a3e-a201-20f343f0d996",
   "metadata": {},
   "outputs": [],
   "source": [
    "sys.path.append(\"..\")"
   ]
  },
  {
   "cell_type": "code",
   "execution_count": null,
   "id": "1bc36268-a120-45fe-8c18-f25c2541be93",
   "metadata": {},
   "outputs": [],
   "source": [
    "from src.trajectory import Trajectory, point_to_bbox"
   ]
  },
  {
   "cell_type": "markdown",
   "id": "5cbae064-5040-4a32-b3d7-693c708c6b72",
   "metadata": {},
   "source": [
    "# Read data"
   ]
  },
  {
   "cell_type": "code",
   "execution_count": null,
   "id": "e9360987-9a43-44ab-9000-cf81c646cc18",
   "metadata": {},
   "outputs": [],
   "source": [
    "db_path = \"../data/raw/rdb1/trajectories_rdb1_v3.sqlite\""
   ]
  },
  {
   "cell_type": "code",
   "execution_count": null,
   "id": "351a621a-89d5-42bc-8ac2-233d09776085",
   "metadata": {},
   "outputs": [],
   "source": [
    "con = sqlite3.connect(db_path)"
   ]
  },
  {
   "cell_type": "code",
   "execution_count": null,
   "id": "2a5721e1-a76e-4659-a90d-7d34ab9c50b8",
   "metadata": {},
   "outputs": [],
   "source": [
    "cursor = con.cursor()"
   ]
  },
  {
   "cell_type": "markdown",
   "id": "61f07b9d-f8d5-4517-98d2-cd87c82b0ce1",
   "metadata": {},
   "source": [
    "Tables in the sqlite DB:"
   ]
  },
  {
   "cell_type": "code",
   "execution_count": null,
   "id": "47dfb190-8f13-4472-bb16-77691387d280",
   "metadata": {},
   "outputs": [],
   "source": [
    "cursor.execute(\"SELECT name FROM sqlite_master WHERE type='table';\")\n",
    "tables = [r[0] for r in cursor.fetchall()]\n",
    "print(tables)"
   ]
  },
  {
   "cell_type": "code",
   "execution_count": null,
   "id": "941038a2-e6e2-406d-b7fc-c6dc1e7b59d6",
   "metadata": {},
   "outputs": [],
   "source": [
    "pd.read_sql('SELECT * FROM rdb1_1', con)"
   ]
  },
  {
   "cell_type": "code",
   "execution_count": null,
   "id": "a552ec05-6f89-4353-a7cd-5bf3723e19b1",
   "metadata": {},
   "outputs": [],
   "source": [
    "df_list = list()\n",
    "for t in tables:\n",
    "    df_t = pd.read_sql(f'SELECT * FROM {t:s}', con)\n",
    "    df_list.append(df_t)\n",
    "    \n",
    "df = pd.concat(df_list)"
   ]
  },
  {
   "cell_type": "code",
   "execution_count": null,
   "id": "7816a5fc-1c13-4bf4-953a-f34624afc61e",
   "metadata": {},
   "outputs": [],
   "source": [
    "del df[\"TRAILER_ID\"] "
   ]
  },
  {
   "cell_type": "code",
   "execution_count": null,
   "id": "b2c5cd08-6e6f-42a8-afc2-e169781cae31",
   "metadata": {},
   "outputs": [],
   "source": [
    "df = df.reset_index()"
   ]
  },
  {
   "cell_type": "code",
   "execution_count": null,
   "id": "523f0c4c-e7ea-48fb-a4f7-1dd31098ab48",
   "metadata": {},
   "outputs": [],
   "source": [
    "df.info()"
   ]
  },
  {
   "cell_type": "code",
   "execution_count": null,
   "id": "f9304736-be49-4604-968f-a8386e2f332d",
   "metadata": {},
   "outputs": [],
   "source": [
    "output_path = \"../data/raw/rdb1.parquet\""
   ]
  },
  {
   "cell_type": "code",
   "execution_count": null,
   "id": "ebf2e60d-8001-4ed8-8126-d7ea559581cc",
   "metadata": {},
   "outputs": [],
   "source": [
    "# df.to_parquet(output_path)\n",
    "df = pd.read_parquet(output_path)"
   ]
  },
  {
   "cell_type": "code",
   "execution_count": null,
   "id": "4cc859ea-c6e2-474d-a99c-3188a72dd1c8",
   "metadata": {},
   "outputs": [],
   "source": [
    "df.info()"
   ]
  },
  {
   "cell_type": "code",
   "execution_count": null,
   "id": "3d601037-5207-4baa-b286-991375052da9",
   "metadata": {},
   "outputs": [],
   "source": [
    "df.head()"
   ]
  },
  {
   "cell_type": "markdown",
   "id": "432a3f8d-3ca7-4f74-8ecd-b479448616fd",
   "metadata": {},
   "source": [
    "# Preprocessing"
   ]
  },
  {
   "cell_type": "code",
   "execution_count": null,
   "id": "f95f9f94-1d3a-4abd-b434-842f027a987d",
   "metadata": {},
   "outputs": [],
   "source": [
    "df[\"_V_kmh\"] = df[\"V\"]*3.6"
   ]
  },
  {
   "cell_type": "markdown",
   "id": "fd2a4def-ebc1-40f5-ae5f-7def1e4a9cdf",
   "metadata": {},
   "source": [
    "# Explore data"
   ]
  },
  {
   "cell_type": "code",
   "execution_count": null,
   "id": "94f1cce1-c176-46e1-8402-b5b9cece869f",
   "metadata": {},
   "outputs": [],
   "source": [
    "print(\"Number of traffic participants:\", df[\"OBJID\"].nunique())"
   ]
  },
  {
   "cell_type": "code",
   "execution_count": null,
   "id": "b6ffd21f-fb8e-44e5-b9b7-b4da5640e7a6",
   "metadata": {},
   "outputs": [],
   "source": [
    "print(df.groupby(\"OBJID\").agg({\"CLASS\": \"first\"})[\"CLASS\"].value_counts())"
   ]
  },
  {
   "cell_type": "markdown",
   "id": "cd2fd94c-ab9d-4f24-af2c-86649fc7f9b5",
   "metadata": {
    "tags": []
   },
   "source": [
    "## Sample rate"
   ]
  },
  {
   "cell_type": "code",
   "execution_count": null,
   "id": "2295a84e-5fd0-43ba-b086-fabd1f119af0",
   "metadata": {},
   "outputs": [],
   "source": [
    "obj1_df = df.query(\"OBJID==1\").sort_values(\"TIMESTAMP\")"
   ]
  },
  {
   "cell_type": "code",
   "execution_count": null,
   "id": "88d5201e-0150-4d7e-8d8d-8b733d273fb9",
   "metadata": {},
   "outputs": [],
   "source": [
    "obj1_df.head()"
   ]
  },
  {
   "cell_type": "code",
   "execution_count": null,
   "id": "5aefc8e9-610e-4e5e-a61e-9734c8738a0f",
   "metadata": {},
   "outputs": [],
   "source": [
    "fig, axs = plt.subplots(nrows=2, figsize=(20, 10), sharex=True)\n",
    "axv, axa = axs\n",
    "axv.plot(obj1_df[\"TIMESTAMP\"], obj1_df[\"_V_kmh\"], \"ko-\")\n",
    "axa.plot(obj1_df[\"TIMESTAMP\"], obj1_df[\"ACC\"], \"ko-\")\n",
    "\n",
    "axv.set_ylabel(\"velocity [km/h]\")\n",
    "axv.grid()\n",
    "\n",
    "axa.set_ylabel(\"acceleration [m/s²]\")\n",
    "axa.grid()\n",
    "\n",
    "axs[-1].set_xlabel(\"time [s]\")"
   ]
  },
  {
   "cell_type": "code",
   "execution_count": null,
   "id": "14651f50-b583-4bed-afd0-0dd63b838a67",
   "metadata": {},
   "outputs": [],
   "source": [
    "delta_t_ms = np.diff(obj1_df[\"TIMESTAMP\"].values*1000)"
   ]
  },
  {
   "cell_type": "code",
   "execution_count": null,
   "id": "827302ff-fa07-46e1-a694-f33e7efa10fe",
   "metadata": {},
   "outputs": [],
   "source": [
    "delta_t_ms.min(), delta_t_ms.max()"
   ]
  },
  {
   "cell_type": "code",
   "execution_count": null,
   "id": "87ccf3b0-f838-4837-85ec-09bd279e117d",
   "metadata": {},
   "outputs": [],
   "source": [
    "dr = stats.describe(delta_t_ms)\n",
    "dr"
   ]
  },
  {
   "cell_type": "markdown",
   "id": "683a34e2-3603-46b2-9001-a35185504d3f",
   "metadata": {},
   "source": [
    "Compute stats on sampling frequency derived from temporal differences between samples:"
   ]
  },
  {
   "cell_type": "code",
   "execution_count": null,
   "id": "e7641837-7205-4451-9c4e-96b208bdd180",
   "metadata": {},
   "outputs": [],
   "source": [
    "def mean_sample_frequency(values):\n",
    "    return 1/np.diff(values).mean()"
   ]
  },
  {
   "cell_type": "code",
   "execution_count": null,
   "id": "0dc17bce-48ba-4ee5-af4f-cd0a52aca46a",
   "metadata": {},
   "outputs": [],
   "source": [
    "df.groupby(\"OBJID\").agg({\"TIMESTAMP\": mean_sample_frequency}).rename(columns={'TIMESTAMP': 'frequency'}).describe()"
   ]
  },
  {
   "cell_type": "markdown",
   "id": "b0d3ecb8-bb9d-441a-9c0c-dc7c51011292",
   "metadata": {},
   "source": [
    "Looks like the objects are sampled with **30 Hz**."
   ]
  },
  {
   "cell_type": "markdown",
   "id": "9d84bd8d-9411-496a-9af4-ab7021ec54cc",
   "metadata": {},
   "source": [
    "## Velocity and acceleration distributions per class"
   ]
  },
  {
   "cell_type": "code",
   "execution_count": null,
   "id": "7e9d231a-2869-4089-8816-0859f18f1662",
   "metadata": {},
   "outputs": [],
   "source": [
    "df[\"_V_kmh\"] = df[\"V\"]*3.6"
   ]
  },
  {
   "cell_type": "code",
   "execution_count": null,
   "id": "305a3e0e-c6b9-4016-b774-e4e932722dbe",
   "metadata": {},
   "outputs": [],
   "source": [
    "fg = sns.displot(df, x=\"_V_kmh\", col=\"CLASS\", col_wrap=3, facet_kws=dict(sharey=False))"
   ]
  },
  {
   "cell_type": "code",
   "execution_count": null,
   "id": "be43c538-2285-42e9-8c29-15a0fcb3ec8a",
   "metadata": {},
   "outputs": [],
   "source": [
    "df[\"ACC_TAN\"].describe()"
   ]
  },
  {
   "cell_type": "code",
   "execution_count": null,
   "id": "f7d43afe-310f-4a69-8f8c-6c0a836e81b4",
   "metadata": {},
   "outputs": [],
   "source": [
    "fig, ax = plt.subplots(figsize=(15, 5))\n",
    "sns.ecdfplot(df, x=\"ACC_TAN\", hue=\"CLASS\", ax=ax)\n",
    "ax.set_xlim(-15, 15)\n",
    "ax.set_xlabel(\"acceleration [m/s²]\")\n",
    "ax.grid()\n",
    "fig.suptitle(\"Cumulative distribution of acceleration samples\")"
   ]
  },
  {
   "cell_type": "markdown",
   "id": "47570e6c-03bf-4466-a332-8abd3cb01588",
   "metadata": {
    "tags": []
   },
   "source": [
    "## Braking maneuvers"
   ]
  },
  {
   "cell_type": "markdown",
   "id": "23aba0c7-0025-4244-832c-76533c2319f4",
   "metadata": {},
   "source": [
    "Get object IDs of trajectories with high decelleration"
   ]
  },
  {
   "cell_type": "code",
   "execution_count": null,
   "id": "de06108a-f220-4bc9-a858-1fb1a58d9cec",
   "metadata": {},
   "outputs": [],
   "source": [
    "ids = df[df['ACC_TAN'].between(-15, -7)][\"OBJID\"].unique()\n",
    "print(f\"Found {len(ids)} objects!\")"
   ]
  },
  {
   "cell_type": "code",
   "execution_count": null,
   "id": "8ce4de69-bef7-4c3c-ab9d-9c1985f48a35",
   "metadata": {},
   "outputs": [],
   "source": [
    "fig, axs = plt.subplots(nrows=2, figsize=(20, 10), sharex=True)\n",
    "axv, axa = axs\n",
    "\n",
    "for i, objid in enumerate(ids):\n",
    "    obj_df = df.query(f\"OBJID=={objid}\").sort_values(\"TIMESTAMP\")\n",
    "    \n",
    "    obj_df[\"_t\"] = obj_df[\"TIMESTAMP\"] - obj_df[\"TIMESTAMP\"].min()\n",
    "    \n",
    "    axv.plot(obj_df[\"_t\"], obj_df[\"_V_kmh\"], label=f\"{i:02d}: {objid:03d}\")\n",
    "    axa.plot(obj_df[\"_t\"], obj_df[\"ACC_TAN\"])\n",
    "\n",
    "axv.set_ylabel(\"velocity [km/h]\")\n",
    "axv.grid()\n",
    "axv.legend()\n",
    "\n",
    "axa.set_ylabel(\"acceleration [m/s²]\")\n",
    "axa.grid()\n",
    "\n",
    "axs[-1].set_xlabel(\"time [s]\")"
   ]
  },
  {
   "cell_type": "code",
   "execution_count": null,
   "id": "021d3e8e-15a3-439d-b1f3-44d1b343cf25",
   "metadata": {},
   "outputs": [],
   "source": [
    "obj_df = df.query(f\"OBJID=={ids[5]}\").sort_values(\"TIMESTAMP\")"
   ]
  },
  {
   "cell_type": "code",
   "execution_count": null,
   "id": "58ff5579-ee0e-4a64-8c5a-345e599769f8",
   "metadata": {},
   "outputs": [],
   "source": [
    "obj_df"
   ]
  },
  {
   "cell_type": "code",
   "execution_count": null,
   "id": "72fc7056-aa2a-48d3-a0a0-7db242cffd38",
   "metadata": {},
   "outputs": [],
   "source": [
    "trajectory = Trajectory(obj_df[\"TIMESTAMP\"], obj_df[\"UTM_X\"], obj_df[\"UTM_Y\"], obj_df[\"UTM_ANGLE\"], width=obj_df[\"WIDTH\"].iloc[0], length=obj_df[\"LENGTH\"].iloc[0])"
   ]
  },
  {
   "cell_type": "code",
   "execution_count": null,
   "id": "34c53552-dab7-4f8d-92cb-1f8a5dce2cec",
   "metadata": {},
   "outputs": [],
   "source": [
    "trajectory.projection"
   ]
  },
  {
   "cell_type": "code",
   "execution_count": null,
   "id": "d08a86b3-6c31-43a3-a7fc-34ee98f15a2f",
   "metadata": {},
   "outputs": [],
   "source": [
    "traj_gdf = trajectory.to_geopandas(as_bbox=False)"
   ]
  },
  {
   "cell_type": "code",
   "execution_count": null,
   "id": "5fcac380-307f-4418-99c5-7c30e3d390ca",
   "metadata": {},
   "outputs": [],
   "source": [
    "traj_gdf.head()"
   ]
  },
  {
   "cell_type": "code",
   "execution_count": null,
   "id": "4f36e17e-f4c3-45cc-8544-25712bb35a55",
   "metadata": {},
   "outputs": [],
   "source": [
    "traj_gdf.crs.to_string()"
   ]
  },
  {
   "cell_type": "code",
   "execution_count": null,
   "id": "edfd9d6d-e0a2-4e98-9bcc-3922cc668832",
   "metadata": {},
   "outputs": [],
   "source": [
    "# traj_gdf = traj_gdf.to_crs(\"EPSG:4326\")"
   ]
  },
  {
   "cell_type": "code",
   "execution_count": null,
   "id": "49cc1bbd-d8fe-439a-a8ab-4e1ce265761c",
   "metadata": {},
   "outputs": [],
   "source": [
    "traj_gdf.crs.to_string()"
   ]
  },
  {
   "cell_type": "code",
   "execution_count": null,
   "id": "d4250486-519f-4e7f-a527-abff3424b6c6",
   "metadata": {},
   "outputs": [],
   "source": [
    "ax = traj_gdf.plot(color=\"red\", figsize=(9, 9))\n",
    "cx.add_basemap(ax, crs=traj_gdf.crs.to_string(), source=cx.providers.CartoDB.Voyager, zoom=\"auto\")"
   ]
  },
  {
   "cell_type": "code",
   "execution_count": null,
   "id": "c2825796-cb00-4b32-a5c7-c858aa105de1",
   "metadata": {},
   "outputs": [],
   "source": [
    "traj_gdf.head()"
   ]
  },
  {
   "cell_type": "code",
   "execution_count": null,
   "id": "fe62d1b3-0d52-4ade-b96c-80139b4cfd4c",
   "metadata": {},
   "outputs": [],
   "source": [
    "fig, axs = plt.subplots(nrows=4, figsize=(20, 10), sharex=True)\n",
    "\n",
    "axx, axy, axv, axa = axs\n",
    "\n",
    "axx.plot(obj_df[\"TIMESTAMP\"], obj_df[\"UTM_X\"], \"k-\")\n",
    "axy.plot(obj_df[\"TIMESTAMP\"], obj_df[\"UTM_Y\"], \"k-\")\n",
    "\n",
    "axv.plot(obj_df[\"TIMESTAMP\"], obj_df[\"_V_kmh\"], \"k-\")\n",
    "axa.plot(obj_df[\"TIMESTAMP\"], obj_df[\"ACC_TAN\"], \"k-\")\n",
    "\n",
    "axx.set_ylabel(\"x-position [m]\")\n",
    "axx.grid()\n",
    "\n",
    "axy.set_ylabel(\"y-position [m]\")\n",
    "axy.grid()\n",
    "\n",
    "axv.set_ylabel(\"velocity [km/h]\")\n",
    "axv.grid()\n",
    "\n",
    "axa.set_ylabel(\"acceleration [m/s²]\")\n",
    "axa.grid()\n",
    "\n",
    "axs[-1].set_xlabel(\"time [s]\")"
   ]
  },
  {
   "cell_type": "code",
   "execution_count": null,
   "id": "604e41a6-9d22-4d05-babc-f132115bd058",
   "metadata": {},
   "outputs": [],
   "source": []
  }
 ],
 "metadata": {
  "kernelspec": {
   "display_name": "Python 3 (ipykernel)",
   "language": "python",
   "name": "python3"
  },
  "language_info": {
   "codemirror_mode": {
    "name": "ipython",
    "version": 3
   },
   "file_extension": ".py",
   "mimetype": "text/x-python",
   "name": "python",
   "nbconvert_exporter": "python",
   "pygments_lexer": "ipython3",
   "version": "3.8.12"
  }
 },
 "nbformat": 4,
 "nbformat_minor": 5
}
