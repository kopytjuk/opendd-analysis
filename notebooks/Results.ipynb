{
 "cells": [
  {
   "cell_type": "markdown",
   "id": "6ee1d8c3-8589-41c1-832b-3c8db072ca08",
   "metadata": {},
   "source": [
    "# Analysis"
   ]
  },
  {
   "cell_type": "code",
   "execution_count": 51,
   "id": "204d0c77-e5c2-4572-a352-5a0ef5764a25",
   "metadata": {},
   "outputs": [
    {
     "name": "stdout",
     "output_type": "stream",
     "text": [
      "The autoreload extension is already loaded. To reload it, use:\n",
      "  %reload_ext autoreload\n"
     ]
    }
   ],
   "source": [
    "%load_ext autoreload\n",
    "%autoreload 2"
   ]
  },
  {
   "cell_type": "code",
   "execution_count": 52,
   "id": "01956323-9aa4-485f-bdbe-c0d9ca875746",
   "metadata": {},
   "outputs": [],
   "source": [
    "import sys\n",
    "import math"
   ]
  },
  {
   "cell_type": "code",
   "execution_count": 53,
   "id": "386a0d73-45d5-449d-90be-2f8018c363aa",
   "metadata": {},
   "outputs": [],
   "source": [
    "import seaborn as sns\n",
    "import pandas as pd\n",
    "import matplotlib.pyplot as plt\n",
    "import numpy as np\n",
    "import matplotlib as mpl"
   ]
  },
  {
   "cell_type": "code",
   "execution_count": 54,
   "id": "35d1f07b-fe72-4537-bb95-4e6c3e631c95",
   "metadata": {},
   "outputs": [],
   "source": [
    "sys.path.append(\"..\")"
   ]
  },
  {
   "cell_type": "code",
   "execution_count": 55,
   "id": "9d072d6d-92ff-4b84-9b43-4532a28925d2",
   "metadata": {},
   "outputs": [],
   "source": [
    "from src.preprocess import VehicleState"
   ]
  },
  {
   "cell_type": "code",
   "execution_count": 56,
   "id": "8746078b-ea52-49e6-ab42-ac62559bbded",
   "metadata": {},
   "outputs": [],
   "source": [
    "mpl.rcParams[\"figure.facecolor\"] = \"w\""
   ]
  },
  {
   "cell_type": "markdown",
   "id": "35c0b20d-a233-4ee2-a109-95ff94ec3c0c",
   "metadata": {},
   "source": [
    "# Read data"
   ]
  },
  {
   "cell_type": "code",
   "execution_count": 57,
   "id": "02a23bd3-7745-47a9-9ff4-dfd987ea08fb",
   "metadata": {},
   "outputs": [],
   "source": [
    "df = pd.read_csv(\"../results/rdb1-fixed/situations.csv\")"
   ]
  },
  {
   "cell_type": "code",
   "execution_count": 58,
   "id": "170bb554-b006-4cd9-a3c0-9ec9c99a6c40",
   "metadata": {},
   "outputs": [],
   "source": [
    "df[\"o2_state\"] = df[\"o2_state\"].map(VehicleState).astype(\"category\")"
   ]
  },
  {
   "cell_type": "code",
   "execution_count": 59,
   "id": "2859a0c3-b837-47d4-a8f0-5b5744ef9463",
   "metadata": {},
   "outputs": [
    {
     "data": {
      "text/html": [
       "<div>\n",
       "<style scoped>\n",
       "    .dataframe tbody tr th:only-of-type {\n",
       "        vertical-align: middle;\n",
       "    }\n",
       "\n",
       "    .dataframe tbody tr th {\n",
       "        vertical-align: top;\n",
       "    }\n",
       "\n",
       "    .dataframe thead th {\n",
       "        text-align: right;\n",
       "    }\n",
       "</style>\n",
       "<table border=\"1\" class=\"dataframe\">\n",
       "  <thead>\n",
       "    <tr style=\"text-align: right;\">\n",
       "      <th></th>\n",
       "      <th>path_id</th>\n",
       "      <th>o1_id</th>\n",
       "      <th>o2_id</th>\n",
       "      <th>t</th>\n",
       "      <th>distance</th>\n",
       "      <th>o2_state</th>\n",
       "      <th>o2_timedelta_drive_off</th>\n",
       "      <th>o2_velocity</th>\n",
       "      <th>measurement</th>\n",
       "      <th>roundabout</th>\n",
       "    </tr>\n",
       "  </thead>\n",
       "  <tbody>\n",
       "    <tr>\n",
       "      <th>0</th>\n",
       "      <td>2</td>\n",
       "      <td>14</td>\n",
       "      <td>17</td>\n",
       "      <td>8.904500</td>\n",
       "      <td>2.62465</td>\n",
       "      <td>1</td>\n",
       "      <td>NaN</td>\n",
       "      <td>0.60</td>\n",
       "      <td>rdb1_1</td>\n",
       "      <td>rdb1</td>\n",
       "    </tr>\n",
       "    <tr>\n",
       "      <th>1</th>\n",
       "      <td>2</td>\n",
       "      <td>156</td>\n",
       "      <td>160</td>\n",
       "      <td>279.800000</td>\n",
       "      <td>2.53805</td>\n",
       "      <td>0</td>\n",
       "      <td>0.9705</td>\n",
       "      <td>0.00</td>\n",
       "      <td>rdb1_1</td>\n",
       "      <td>rdb1</td>\n",
       "    </tr>\n",
       "    <tr>\n",
       "      <th>2</th>\n",
       "      <td>2</td>\n",
       "      <td>256</td>\n",
       "      <td>260</td>\n",
       "      <td>425.211166</td>\n",
       "      <td>5.39825</td>\n",
       "      <td>1</td>\n",
       "      <td>NaN</td>\n",
       "      <td>2.83</td>\n",
       "      <td>rdb1_1</td>\n",
       "      <td>rdb1</td>\n",
       "    </tr>\n",
       "    <tr>\n",
       "      <th>3</th>\n",
       "      <td>3</td>\n",
       "      <td>9</td>\n",
       "      <td>3</td>\n",
       "      <td>2.333333</td>\n",
       "      <td>3.18875</td>\n",
       "      <td>1</td>\n",
       "      <td>NaN</td>\n",
       "      <td>0.22</td>\n",
       "      <td>rdb1_1</td>\n",
       "      <td>rdb1</td>\n",
       "    </tr>\n",
       "    <tr>\n",
       "      <th>4</th>\n",
       "      <td>3</td>\n",
       "      <td>3</td>\n",
       "      <td>4</td>\n",
       "      <td>4.233333</td>\n",
       "      <td>1.61635</td>\n",
       "      <td>0</td>\n",
       "      <td>0.1000</td>\n",
       "      <td>0.14</td>\n",
       "      <td>rdb1_1</td>\n",
       "      <td>rdb1</td>\n",
       "    </tr>\n",
       "  </tbody>\n",
       "</table>\n",
       "</div>"
      ],
      "text/plain": [
       "   path_id  o1_id  o2_id           t  distance o2_state  \\\n",
       "0        2     14     17    8.904500   2.62465        1   \n",
       "1        2    156    160  279.800000   2.53805        0   \n",
       "2        2    256    260  425.211166   5.39825        1   \n",
       "3        3      9      3    2.333333   3.18875        1   \n",
       "4        3      3      4    4.233333   1.61635        0   \n",
       "\n",
       "   o2_timedelta_drive_off  o2_velocity measurement roundabout  \n",
       "0                     NaN         0.60      rdb1_1       rdb1  \n",
       "1                  0.9705         0.00      rdb1_1       rdb1  \n",
       "2                     NaN         2.83      rdb1_1       rdb1  \n",
       "3                     NaN         0.22      rdb1_1       rdb1  \n",
       "4                  0.1000         0.14      rdb1_1       rdb1  "
      ]
     },
     "execution_count": 59,
     "metadata": {},
     "output_type": "execute_result"
    }
   ],
   "source": [
    "df.head()"
   ]
  },
  {
   "cell_type": "code",
   "execution_count": 60,
   "id": "a7e7e733-cd20-45cc-b0c3-a1b33cc4516f",
   "metadata": {},
   "outputs": [
    {
     "data": {
      "text/html": [
       "<div>\n",
       "<style scoped>\n",
       "    .dataframe tbody tr th:only-of-type {\n",
       "        vertical-align: middle;\n",
       "    }\n",
       "\n",
       "    .dataframe tbody tr th {\n",
       "        vertical-align: top;\n",
       "    }\n",
       "\n",
       "    .dataframe thead th {\n",
       "        text-align: right;\n",
       "    }\n",
       "</style>\n",
       "<table border=\"1\" class=\"dataframe\">\n",
       "  <thead>\n",
       "    <tr style=\"text-align: right;\">\n",
       "      <th></th>\n",
       "      <th>path_id</th>\n",
       "      <th>o1_id</th>\n",
       "      <th>o2_id</th>\n",
       "      <th>t</th>\n",
       "      <th>distance</th>\n",
       "      <th>o2_state</th>\n",
       "      <th>o2_timedelta_drive_off</th>\n",
       "      <th>o2_velocity</th>\n",
       "      <th>measurement</th>\n",
       "      <th>roundabout</th>\n",
       "    </tr>\n",
       "  </thead>\n",
       "  <tbody>\n",
       "    <tr>\n",
       "      <th>1</th>\n",
       "      <td>2</td>\n",
       "      <td>156</td>\n",
       "      <td>160</td>\n",
       "      <td>279.800000</td>\n",
       "      <td>2.53805</td>\n",
       "      <td>0</td>\n",
       "      <td>0.970500</td>\n",
       "      <td>0.00</td>\n",
       "      <td>rdb1_1</td>\n",
       "      <td>rdb1</td>\n",
       "    </tr>\n",
       "    <tr>\n",
       "      <th>0</th>\n",
       "      <td>2</td>\n",
       "      <td>14</td>\n",
       "      <td>17</td>\n",
       "      <td>8.904500</td>\n",
       "      <td>2.62465</td>\n",
       "      <td>1</td>\n",
       "      <td>NaN</td>\n",
       "      <td>0.60</td>\n",
       "      <td>rdb1_1</td>\n",
       "      <td>rdb1</td>\n",
       "    </tr>\n",
       "    <tr>\n",
       "      <th>22</th>\n",
       "      <td>13</td>\n",
       "      <td>206</td>\n",
       "      <td>207</td>\n",
       "      <td>355.595833</td>\n",
       "      <td>22.27880</td>\n",
       "      <td>1</td>\n",
       "      <td>NaN</td>\n",
       "      <td>4.60</td>\n",
       "      <td>rdb1_1</td>\n",
       "      <td>rdb1</td>\n",
       "    </tr>\n",
       "    <tr>\n",
       "      <th>41</th>\n",
       "      <td>25</td>\n",
       "      <td>344</td>\n",
       "      <td>345</td>\n",
       "      <td>552.911667</td>\n",
       "      <td>0.57660</td>\n",
       "      <td>1</td>\n",
       "      <td>NaN</td>\n",
       "      <td>0.28</td>\n",
       "      <td>rdb1_1</td>\n",
       "      <td>rdb1</td>\n",
       "    </tr>\n",
       "    <tr>\n",
       "      <th>33</th>\n",
       "      <td>13</td>\n",
       "      <td>247</td>\n",
       "      <td>248</td>\n",
       "      <td>420.194500</td>\n",
       "      <td>1.30300</td>\n",
       "      <td>0</td>\n",
       "      <td>1.903166</td>\n",
       "      <td>0.03</td>\n",
       "      <td>rdb1_1</td>\n",
       "      <td>rdb1</td>\n",
       "    </tr>\n",
       "    <tr>\n",
       "      <th>36</th>\n",
       "      <td>13</td>\n",
       "      <td>284</td>\n",
       "      <td>287</td>\n",
       "      <td>463.788833</td>\n",
       "      <td>15.91235</td>\n",
       "      <td>1</td>\n",
       "      <td>NaN</td>\n",
       "      <td>6.78</td>\n",
       "      <td>rdb1_1</td>\n",
       "      <td>rdb1</td>\n",
       "    </tr>\n",
       "    <tr>\n",
       "      <th>31</th>\n",
       "      <td>13</td>\n",
       "      <td>242</td>\n",
       "      <td>245</td>\n",
       "      <td>421.881666</td>\n",
       "      <td>8.02570</td>\n",
       "      <td>1</td>\n",
       "      <td>NaN</td>\n",
       "      <td>2.25</td>\n",
       "      <td>rdb1_1</td>\n",
       "      <td>rdb1</td>\n",
       "    </tr>\n",
       "    <tr>\n",
       "      <th>6</th>\n",
       "      <td>3</td>\n",
       "      <td>4</td>\n",
       "      <td>11</td>\n",
       "      <td>5.133333</td>\n",
       "      <td>5.49185</td>\n",
       "      <td>1</td>\n",
       "      <td>NaN</td>\n",
       "      <td>0.42</td>\n",
       "      <td>rdb1_1</td>\n",
       "      <td>rdb1</td>\n",
       "    </tr>\n",
       "    <tr>\n",
       "      <th>37</th>\n",
       "      <td>20</td>\n",
       "      <td>332</td>\n",
       "      <td>349</td>\n",
       "      <td>553.694833</td>\n",
       "      <td>60.56160</td>\n",
       "      <td>1</td>\n",
       "      <td>NaN</td>\n",
       "      <td>3.36</td>\n",
       "      <td>rdb1_1</td>\n",
       "      <td>rdb1</td>\n",
       "    </tr>\n",
       "    <tr>\n",
       "      <th>26</th>\n",
       "      <td>13</td>\n",
       "      <td>213</td>\n",
       "      <td>228</td>\n",
       "      <td>363.572333</td>\n",
       "      <td>31.92955</td>\n",
       "      <td>1</td>\n",
       "      <td>NaN</td>\n",
       "      <td>3.58</td>\n",
       "      <td>rdb1_1</td>\n",
       "      <td>rdb1</td>\n",
       "    </tr>\n",
       "    <tr>\n",
       "      <th>18</th>\n",
       "      <td>13</td>\n",
       "      <td>104</td>\n",
       "      <td>109</td>\n",
       "      <td>175.659334</td>\n",
       "      <td>9.90315</td>\n",
       "      <td>0</td>\n",
       "      <td>2.705500</td>\n",
       "      <td>0.00</td>\n",
       "      <td>rdb1_1</td>\n",
       "      <td>rdb1</td>\n",
       "    </tr>\n",
       "    <tr>\n",
       "      <th>27</th>\n",
       "      <td>13</td>\n",
       "      <td>228</td>\n",
       "      <td>230</td>\n",
       "      <td>377.358500</td>\n",
       "      <td>2.38380</td>\n",
       "      <td>0</td>\n",
       "      <td>0.902666</td>\n",
       "      <td>0.09</td>\n",
       "      <td>rdb1_1</td>\n",
       "      <td>rdb1</td>\n",
       "    </tr>\n",
       "    <tr>\n",
       "      <th>19</th>\n",
       "      <td>13</td>\n",
       "      <td>109</td>\n",
       "      <td>115</td>\n",
       "      <td>178.364834</td>\n",
       "      <td>9.68040</td>\n",
       "      <td>0</td>\n",
       "      <td>1.942000</td>\n",
       "      <td>0.02</td>\n",
       "      <td>rdb1_1</td>\n",
       "      <td>rdb1</td>\n",
       "    </tr>\n",
       "    <tr>\n",
       "      <th>39</th>\n",
       "      <td>22</td>\n",
       "      <td>296</td>\n",
       "      <td>297</td>\n",
       "      <td>482.810833</td>\n",
       "      <td>2.38820</td>\n",
       "      <td>1</td>\n",
       "      <td>NaN</td>\n",
       "      <td>0.46</td>\n",
       "      <td>rdb1_1</td>\n",
       "      <td>rdb1</td>\n",
       "    </tr>\n",
       "    <tr>\n",
       "      <th>8</th>\n",
       "      <td>3</td>\n",
       "      <td>124</td>\n",
       "      <td>126</td>\n",
       "      <td>215.033833</td>\n",
       "      <td>3.62790</td>\n",
       "      <td>0</td>\n",
       "      <td>0.338000</td>\n",
       "      <td>0.15</td>\n",
       "      <td>rdb1_1</td>\n",
       "      <td>rdb1</td>\n",
       "    </tr>\n",
       "    <tr>\n",
       "      <th>25</th>\n",
       "      <td>13</td>\n",
       "      <td>210</td>\n",
       "      <td>213</td>\n",
       "      <td>342.502667</td>\n",
       "      <td>2.67780</td>\n",
       "      <td>0</td>\n",
       "      <td>1.069667</td>\n",
       "      <td>0.10</td>\n",
       "      <td>rdb1_1</td>\n",
       "      <td>rdb1</td>\n",
       "    </tr>\n",
       "    <tr>\n",
       "      <th>5</th>\n",
       "      <td>3</td>\n",
       "      <td>4</td>\n",
       "      <td>11</td>\n",
       "      <td>4.333333</td>\n",
       "      <td>5.84185</td>\n",
       "      <td>1</td>\n",
       "      <td>NaN</td>\n",
       "      <td>0.44</td>\n",
       "      <td>rdb1_1</td>\n",
       "      <td>rdb1</td>\n",
       "    </tr>\n",
       "    <tr>\n",
       "      <th>20</th>\n",
       "      <td>13</td>\n",
       "      <td>153</td>\n",
       "      <td>155</td>\n",
       "      <td>266.961000</td>\n",
       "      <td>5.01080</td>\n",
       "      <td>1</td>\n",
       "      <td>NaN</td>\n",
       "      <td>1.90</td>\n",
       "      <td>rdb1_1</td>\n",
       "      <td>rdb1</td>\n",
       "    </tr>\n",
       "    <tr>\n",
       "      <th>12</th>\n",
       "      <td>3</td>\n",
       "      <td>214</td>\n",
       "      <td>216</td>\n",
       "      <td>356.473000</td>\n",
       "      <td>1.12275</td>\n",
       "      <td>0</td>\n",
       "      <td>1.136167</td>\n",
       "      <td>0.02</td>\n",
       "      <td>rdb1_1</td>\n",
       "      <td>rdb1</td>\n",
       "    </tr>\n",
       "    <tr>\n",
       "      <th>13</th>\n",
       "      <td>3</td>\n",
       "      <td>216</td>\n",
       "      <td>221</td>\n",
       "      <td>357.609167</td>\n",
       "      <td>11.77000</td>\n",
       "      <td>1</td>\n",
       "      <td>NaN</td>\n",
       "      <td>0.61</td>\n",
       "      <td>rdb1_1</td>\n",
       "      <td>rdb1</td>\n",
       "    </tr>\n",
       "  </tbody>\n",
       "</table>\n",
       "</div>"
      ],
      "text/plain": [
       "    path_id  o1_id  o2_id           t  distance o2_state  \\\n",
       "1         2    156    160  279.800000   2.53805        0   \n",
       "0         2     14     17    8.904500   2.62465        1   \n",
       "22       13    206    207  355.595833  22.27880        1   \n",
       "41       25    344    345  552.911667   0.57660        1   \n",
       "33       13    247    248  420.194500   1.30300        0   \n",
       "36       13    284    287  463.788833  15.91235        1   \n",
       "31       13    242    245  421.881666   8.02570        1   \n",
       "6         3      4     11    5.133333   5.49185        1   \n",
       "37       20    332    349  553.694833  60.56160        1   \n",
       "26       13    213    228  363.572333  31.92955        1   \n",
       "18       13    104    109  175.659334   9.90315        0   \n",
       "27       13    228    230  377.358500   2.38380        0   \n",
       "19       13    109    115  178.364834   9.68040        0   \n",
       "39       22    296    297  482.810833   2.38820        1   \n",
       "8         3    124    126  215.033833   3.62790        0   \n",
       "25       13    210    213  342.502667   2.67780        0   \n",
       "5         3      4     11    4.333333   5.84185        1   \n",
       "20       13    153    155  266.961000   5.01080        1   \n",
       "12        3    214    216  356.473000   1.12275        0   \n",
       "13        3    216    221  357.609167  11.77000        1   \n",
       "\n",
       "    o2_timedelta_drive_off  o2_velocity measurement roundabout  \n",
       "1                 0.970500         0.00      rdb1_1       rdb1  \n",
       "0                      NaN         0.60      rdb1_1       rdb1  \n",
       "22                     NaN         4.60      rdb1_1       rdb1  \n",
       "41                     NaN         0.28      rdb1_1       rdb1  \n",
       "33                1.903166         0.03      rdb1_1       rdb1  \n",
       "36                     NaN         6.78      rdb1_1       rdb1  \n",
       "31                     NaN         2.25      rdb1_1       rdb1  \n",
       "6                      NaN         0.42      rdb1_1       rdb1  \n",
       "37                     NaN         3.36      rdb1_1       rdb1  \n",
       "26                     NaN         3.58      rdb1_1       rdb1  \n",
       "18                2.705500         0.00      rdb1_1       rdb1  \n",
       "27                0.902666         0.09      rdb1_1       rdb1  \n",
       "19                1.942000         0.02      rdb1_1       rdb1  \n",
       "39                     NaN         0.46      rdb1_1       rdb1  \n",
       "8                 0.338000         0.15      rdb1_1       rdb1  \n",
       "25                1.069667         0.10      rdb1_1       rdb1  \n",
       "5                      NaN         0.44      rdb1_1       rdb1  \n",
       "20                     NaN         1.90      rdb1_1       rdb1  \n",
       "12                1.136167         0.02      rdb1_1       rdb1  \n",
       "13                     NaN         0.61      rdb1_1       rdb1  "
      ]
     },
     "execution_count": 60,
     "metadata": {},
     "output_type": "execute_result"
    }
   ],
   "source": [
    "df.query(\"measurement == 'rdb1_1'\").sample(20)"
   ]
  },
  {
   "cell_type": "code",
   "execution_count": 61,
   "id": "9e520845-4ebc-4c81-931a-21071c8d574d",
   "metadata": {},
   "outputs": [
    {
     "name": "stdout",
     "output_type": "stream",
     "text": [
      "<class 'pandas.core.frame.DataFrame'>\n",
      "RangeIndex: 3194 entries, 0 to 3193\n",
      "Data columns (total 10 columns):\n",
      " #   Column                  Non-Null Count  Dtype   \n",
      "---  ------                  --------------  -----   \n",
      " 0   path_id                 3194 non-null   int64   \n",
      " 1   o1_id                   3194 non-null   int64   \n",
      " 2   o2_id                   3194 non-null   int64   \n",
      " 3   t                       3194 non-null   float64 \n",
      " 4   distance                3194 non-null   float64 \n",
      " 5   o2_state                3194 non-null   category\n",
      " 6   o2_timedelta_drive_off  1799 non-null   float64 \n",
      " 7   o2_velocity             3194 non-null   float64 \n",
      " 8   measurement             3194 non-null   object  \n",
      " 9   roundabout              3194 non-null   object  \n",
      "dtypes: category(1), float64(4), int64(3), object(2)\n",
      "memory usage: 227.9+ KB\n"
     ]
    }
   ],
   "source": [
    "df.info()"
   ]
  },
  {
   "cell_type": "code",
   "execution_count": 62,
   "id": "56ef7f5e-fd61-40c5-a7bc-356211f548d8",
   "metadata": {},
   "outputs": [
    {
     "data": {
      "text/html": [
       "<div>\n",
       "<style scoped>\n",
       "    .dataframe tbody tr th:only-of-type {\n",
       "        vertical-align: middle;\n",
       "    }\n",
       "\n",
       "    .dataframe tbody tr th {\n",
       "        vertical-align: top;\n",
       "    }\n",
       "\n",
       "    .dataframe thead th {\n",
       "        text-align: right;\n",
       "    }\n",
       "</style>\n",
       "<table border=\"1\" class=\"dataframe\">\n",
       "  <thead>\n",
       "    <tr style=\"text-align: right;\">\n",
       "      <th></th>\n",
       "      <th>path_id</th>\n",
       "      <th>o1_id</th>\n",
       "      <th>o2_id</th>\n",
       "      <th>t</th>\n",
       "      <th>distance</th>\n",
       "      <th>o2_timedelta_drive_off</th>\n",
       "      <th>o2_velocity</th>\n",
       "    </tr>\n",
       "  </thead>\n",
       "  <tbody>\n",
       "    <tr>\n",
       "      <th>count</th>\n",
       "      <td>3194.000000</td>\n",
       "      <td>3194.000000</td>\n",
       "      <td>3194.000000</td>\n",
       "      <td>3194.000000</td>\n",
       "      <td>3194.000000</td>\n",
       "      <td>1799.000000</td>\n",
       "      <td>3194.000000</td>\n",
       "    </tr>\n",
       "    <tr>\n",
       "      <th>mean</th>\n",
       "      <td>10.902317</td>\n",
       "      <td>13677.315905</td>\n",
       "      <td>13681.016907</td>\n",
       "      <td>262.793078</td>\n",
       "      <td>5.899389</td>\n",
       "      <td>2.485482</td>\n",
       "      <td>0.713945</td>\n",
       "    </tr>\n",
       "    <tr>\n",
       "      <th>std</th>\n",
       "      <td>7.547812</td>\n",
       "      <td>10758.948586</td>\n",
       "      <td>10758.602653</td>\n",
       "      <td>162.965281</td>\n",
       "      <td>10.453306</td>\n",
       "      <td>3.214761</td>\n",
       "      <td>1.356660</td>\n",
       "    </tr>\n",
       "    <tr>\n",
       "      <th>min</th>\n",
       "      <td>0.000000</td>\n",
       "      <td>3.000000</td>\n",
       "      <td>3.000000</td>\n",
       "      <td>0.066667</td>\n",
       "      <td>-105.635300</td>\n",
       "      <td>0.033333</td>\n",
       "      <td>0.000000</td>\n",
       "    </tr>\n",
       "    <tr>\n",
       "      <th>25%</th>\n",
       "      <td>3.000000</td>\n",
       "      <td>3860.250000</td>\n",
       "      <td>3865.750000</td>\n",
       "      <td>116.148542</td>\n",
       "      <td>2.051488</td>\n",
       "      <td>1.103666</td>\n",
       "      <td>0.020000</td>\n",
       "    </tr>\n",
       "    <tr>\n",
       "      <th>50%</th>\n",
       "      <td>13.000000</td>\n",
       "      <td>9821.000000</td>\n",
       "      <td>9824.000000</td>\n",
       "      <td>260.838583</td>\n",
       "      <td>3.223075</td>\n",
       "      <td>1.601834</td>\n",
       "      <td>0.100000</td>\n",
       "    </tr>\n",
       "    <tr>\n",
       "      <th>75%</th>\n",
       "      <td>13.000000</td>\n",
       "      <td>23683.750000</td>\n",
       "      <td>23695.500000</td>\n",
       "      <td>403.819750</td>\n",
       "      <td>7.766488</td>\n",
       "      <td>2.527084</td>\n",
       "      <td>0.740000</td>\n",
       "    </tr>\n",
       "    <tr>\n",
       "      <th>max</th>\n",
       "      <td>28.000000</td>\n",
       "      <td>32865.000000</td>\n",
       "      <td>32869.000000</td>\n",
       "      <td>560.883333</td>\n",
       "      <td>91.859850</td>\n",
       "      <td>36.169999</td>\n",
       "      <td>12.400000</td>\n",
       "    </tr>\n",
       "  </tbody>\n",
       "</table>\n",
       "</div>"
      ],
      "text/plain": [
       "           path_id         o1_id         o2_id            t     distance  \\\n",
       "count  3194.000000   3194.000000   3194.000000  3194.000000  3194.000000   \n",
       "mean     10.902317  13677.315905  13681.016907   262.793078     5.899389   \n",
       "std       7.547812  10758.948586  10758.602653   162.965281    10.453306   \n",
       "min       0.000000      3.000000      3.000000     0.066667  -105.635300   \n",
       "25%       3.000000   3860.250000   3865.750000   116.148542     2.051488   \n",
       "50%      13.000000   9821.000000   9824.000000   260.838583     3.223075   \n",
       "75%      13.000000  23683.750000  23695.500000   403.819750     7.766488   \n",
       "max      28.000000  32865.000000  32869.000000   560.883333    91.859850   \n",
       "\n",
       "       o2_timedelta_drive_off  o2_velocity  \n",
       "count             1799.000000  3194.000000  \n",
       "mean                 2.485482     0.713945  \n",
       "std                  3.214761     1.356660  \n",
       "min                  0.033333     0.000000  \n",
       "25%                  1.103666     0.020000  \n",
       "50%                  1.601834     0.100000  \n",
       "75%                  2.527084     0.740000  \n",
       "max                 36.169999    12.400000  "
      ]
     },
     "execution_count": 62,
     "metadata": {},
     "output_type": "execute_result"
    }
   ],
   "source": [
    "df.describe()"
   ]
  },
  {
   "cell_type": "code",
   "execution_count": 63,
   "id": "d98ce09e-7a7c-463b-ae6f-8b46caeb038e",
   "metadata": {},
   "outputs": [
    {
     "data": {
      "image/png": "[encoded data removed]",
      "text/plain": [
       "<Figure size 432x288 with 1 Axes>"
      ]
     },
     "metadata": {},
     "output_type": "display_data"
    }
   ],
   "source": [
    "plt.figure()\n",
    "sns.histplot(df[\"o2_timedelta_drive_off\"])\n",
    "plt.grid()"
   ]
  },
  {
   "cell_type": "markdown",
   "id": "9db1ec7a-50d0-4618-9692-6155c266c397",
   "metadata": {
    "tags": []
   },
   "source": [
    "# Analyse"
   ]
  },
  {
   "cell_type": "code",
   "execution_count": 64,
   "id": "0bd480cb-9b14-486d-8296-f04859c5ede8",
   "metadata": {},
   "outputs": [],
   "source": [
    "DISTANCE = 10"
   ]
  },
  {
   "cell_type": "code",
   "execution_count": 65,
   "id": "1335d295-bd34-4500-8626-94c458ed57c8",
   "metadata": {},
   "outputs": [],
   "source": [
    "df_nearby = df[df[\"distance\"] < DISTANCE]"
   ]
  },
  {
   "cell_type": "markdown",
   "id": "db4beecb-7f93-4aa1-acb1-346f39bd223a",
   "metadata": {},
   "source": [
    "Number of vehicles which are standing vs already moving"
   ]
  },
  {
   "cell_type": "code",
   "execution_count": 66,
   "id": "63f25916-1a06-4b7c-94db-c59f363af938",
   "metadata": {},
   "outputs": [
    {
     "data": {
      "text/plain": [
       "0    1612\n",
       "1    1012\n",
       "Name: o2_state, dtype: int64"
      ]
     },
     "execution_count": 66,
     "metadata": {},
     "output_type": "execute_result"
    }
   ],
   "source": [
    "df_nearby[\"o2_state\"].value_counts()"
   ]
  },
  {
   "cell_type": "code",
   "execution_count": 67,
   "id": "f0bb642d-1aa0-4764-98ac-905df3f6015d",
   "metadata": {},
   "outputs": [],
   "source": [
    "proportion_o2_state = df_nearby[\"o2_state\"].value_counts()/len(df_nearby)\n",
    "proportion_o2_state.index = proportion_o2_state.index.map(lambda x: VehicleState(x).name)"
   ]
  },
  {
   "cell_type": "code",
   "execution_count": 68,
   "id": "fafb076f-ac3c-4e4e-b380-897532ae9540",
   "metadata": {},
   "outputs": [
    {
     "data": {
      "text/plain": [
       "Text(0.5, 1.0, 'Behaviour of the following vehicle')"
      ]
     },
     "execution_count": 68,
     "metadata": {},
     "output_type": "execute_result"
    },
    {
     "data": {
      "image/png": "[encoded data removed]",
      "text/plain": [
       "<Figure size 720x720 with 1 Axes>"
      ]
     },
     "metadata": {},
     "output_type": "display_data"
    }
   ],
   "source": [
    "def render_label(pct: float) -> str:\n",
    "    n = math.ceil(pct/100*len(df_nearby))\n",
    "    return f\"{pct:.0f}% ({n:d})\"\n",
    "\n",
    "plt.figure(figsize=(10, 10))\n",
    "plt.pie(proportion_o2_state, labels=proportion_o2_state.index, autopct=render_label, explode=[0, 0.05], textprops={\"fontsize\": 15})\n",
    "plt.title(\"Behaviour of the following vehicle\", fontdict={\"fontsize\": 20})"
   ]
  },
  {
   "cell_type": "markdown",
   "id": "a9f415b9-5e0d-4cd1-a8b5-de89041c4312",
   "metadata": {},
   "source": [
    "## O2 is drivingVehicleState"
   ]
  },
  {
   "cell_type": "code",
   "execution_count": 69,
   "id": "6b9be121-2621-414f-a1cd-10ad72cc7b67",
   "metadata": {},
   "outputs": [],
   "source": [
    "df_nearby_and_moving = df_nearby[df_nearby[\"o2_state\"] == VehicleState.DRIVING]"
   ]
  },
  {
   "cell_type": "code",
   "execution_count": 70,
   "id": "7780cbd4-2e89-4c0e-b3b0-19f6fc6a19ff",
   "metadata": {},
   "outputs": [
    {
     "data": {
      "image/png": "[encoded data removed]",
      "text/plain": [
       "<Figure size 432x288 with 1 Axes>"
      ]
     },
     "metadata": {},
     "output_type": "display_data"
    }
   ],
   "source": [
    "plt.figure()\n",
    "sns.histplot(df[\"o2_velocity\"]*3.6)\n",
    "plt.grid()"
   ]
  },
  {
   "cell_type": "markdown",
   "id": "c7b3c15c-9482-49ca-bb41-fe40d6690c92",
   "metadata": {},
   "source": [
    "## O2 is waiting"
   ]
  },
  {
   "cell_type": "code",
   "execution_count": 71,
   "id": "90b496b3-e50a-4610-8b25-6599c2a0716b",
   "metadata": {},
   "outputs": [],
   "source": [
    "df_nearby_and_standing = df_nearby[df_nearby[\"o2_state\"] == VehicleState.STANDING]"
   ]
  },
  {
   "cell_type": "code",
   "execution_count": 72,
   "id": "b9bcda67-3747-41ef-8dfc-38feb8bd183e",
   "metadata": {},
   "outputs": [
    {
     "data": {
      "text/plain": [
       "count    1612.000000\n",
       "mean        2.200054\n",
       "std         2.962962\n",
       "min         0.033333\n",
       "25%         1.068959\n",
       "50%         1.511584\n",
       "75%         2.237541\n",
       "max        36.169999\n",
       "Name: o2_timedelta_drive_off, dtype: float64"
      ]
     },
     "execution_count": 72,
     "metadata": {},
     "output_type": "execute_result"
    }
   ],
   "source": [
    "df_nearby_and_standing[\"o2_timedelta_drive_off\"].describe()"
   ]
  },
  {
   "cell_type": "code",
   "execution_count": 73,
   "id": "646244be-09c9-4200-b89a-ad12b2e8587f",
   "metadata": {},
   "outputs": [
    {
     "data": {
      "text/plain": [
       "Text(0.5, 0.98, 'Delay between leading and following vehicle.')"
      ]
     },
     "execution_count": 73,
     "metadata": {},
     "output_type": "execute_result"
    },
    {
     "data": {
      "image/png": "[encoded data removed]",
      "text/plain": [
       "<Figure size 720x504 with 2 Axes>"
      ]
     },
     "metadata": {},
     "output_type": "display_data"
    }
   ],
   "source": [
    "fig = plt.figure(constrained_layout=True, figsize=(10, 7))\n",
    "gs = plt.GridSpec(3, 1, figure=fig)\n",
    "\n",
    "ax1 = fig.add_subplot(gs[:2, 0])\n",
    "ax2 = fig.add_subplot(gs[-1, 0])\n",
    "\n",
    "sns.histplot(df_nearby_and_standing[\"o2_timedelta_drive_off\"], ax=ax1, kde=True, stat=\"density\")\n",
    "sns.boxplot(x = df_nearby_and_standing[\"o2_timedelta_drive_off\"], ax=ax2)\n",
    "for ax in [ax1, ax2]:\n",
    "    ax.set_xlim(0, 10)\n",
    "    ax.grid()\n",
    "    ax.set_xticks(np.arange(0, 10, 1))\n",
    "    # ax.set_axis_off()\n",
    "\n",
    "ax1.set_xlabel(\"\")\n",
    "ax2.set_xlabel(\"time after first vehicle moved [s]\")\n",
    "fig.suptitle(\"Delay between leading and following vehicle.\", fontsize=15)"
   ]
  },
  {
   "cell_type": "code",
   "execution_count": 82,
   "id": "37f48738-27b7-4409-b355-13d38c17178e",
   "metadata": {},
   "outputs": [
    {
     "data": {
      "image/png": "[encoded data removed]",
      "text/plain": [
       "<Figure size 1000x500 with 1 Axes>"
      ]
     },
     "metadata": {},
     "output_type": "display_data"
    }
   ],
   "source": [
    "plt.figure(figsize=(10, 5), dpi=100)\n",
    "sns.histplot(df_nearby_and_standing[\"o2_timedelta_drive_off\"], kde=True, stat=\"density\", line_kws={\"lw\": 5})\n",
    "# plt.grid()\n",
    "plt.xlabel(\"time [s]\")\n",
    "plt.title(\"Time delay of moving off between leading and following vehicle\")\n",
    "plt.xlim(0, 5)\n",
    "plt.box(False)\n",
    "plt.ylabel(\"\")\n",
    "plt.yticks([])\n",
    "plt.xticks(np.arange(0, 5.1, 1));"
   ]
  },
  {
   "cell_type": "code",
   "execution_count": 80,
   "id": "6c79a7b4-9a58-4798-beb3-38da53720c56",
   "metadata": {},
   "outputs": [
    {
     "data": {
      "image/png": "[encoded data removed]",
      "text/plain": [
       "<Figure size 1000x500 with 1 Axes>"
      ]
     },
     "metadata": {},
     "output_type": "display_data"
    }
   ],
   "source": [
    "plt.figure(figsize=(10, 5), dpi=100)\n",
    "sns.histplot(df_nearby_and_standing[\"distance\"], kde=True, line_kws={\"lw\": 5})\n",
    "# plt.grid()\n",
    "plt.xlabel(\"distance [m]\")\n",
    "plt.ylabel(\"\")\n",
    "plt.title(\"Distance between two vehicles before driving off\")\n",
    "plt.xlim(0, 10)\n",
    "plt.box(False)\n",
    "plt.yticks([]);\n",
    "# plt.tick_params(axis='y', left='off', top='off', right='off', bottom='off', labelleft='off', labeltop='off', labelright='off', labelbottom='off')"
   ]
  },
  {
   "cell_type": "code",
   "execution_count": null,
   "id": "887827fb-6cf8-468e-8478-b563827d92dd",
   "metadata": {},
   "outputs": [],
   "source": []
  }
 ],
 "metadata": {
  "kernelspec": {
   "display_name": "Python 3 (ipykernel)",
   "language": "python",
   "name": "python3"
  },
  "language_info": {
   "codemirror_mode": {
    "name": "ipython",
    "version": 3
   },
   "file_extension": ".py",
   "mimetype": "text/x-python",
   "name": "python",
   "nbconvert_exporter": "python",
   "pygments_lexer": "ipython3",
   "version": "3.9.10"
  }
 },
 "nbformat": 4,
 "nbformat_minor": 5
}
