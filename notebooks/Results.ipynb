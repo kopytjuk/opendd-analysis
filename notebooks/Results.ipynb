{
 "cells": [
  {
   "cell_type": "markdown",
   "id": "6ee1d8c3-8589-41c1-832b-3c8db072ca08",
   "metadata": {},
   "source": [
    "# Analysis"
   ]
  },
  {
   "cell_type": "code",
   "execution_count": 2,
   "id": "204d0c77-e5c2-4572-a352-5a0ef5764a25",
   "metadata": {},
   "outputs": [],
   "source": [
    "%load_ext autoreload\n",
    "%autoreload 2"
   ]
  },
  {
   "cell_type": "code",
   "execution_count": 3,
   "id": "01956323-9aa4-485f-bdbe-c0d9ca875746",
   "metadata": {},
   "outputs": [],
   "source": [
    "import sys\n",
    "import math"
   ]
  },
  {
   "cell_type": "code",
   "execution_count": 4,
   "id": "386a0d73-45d5-449d-90be-2f8018c363aa",
   "metadata": {},
   "outputs": [],
   "source": [
    "import seaborn as sns\n",
    "import pandas as pd\n",
    "import matplotlib.pyplot as plt\n",
    "import numpy as np\n",
    "import matplotlib as mpl"
   ]
  },
  {
   "cell_type": "code",
   "execution_count": 5,
   "id": "35d1f07b-fe72-4537-bb95-4e6c3e631c95",
   "metadata": {},
   "outputs": [],
   "source": [
    "sys.path.append(\"..\")"
   ]
  },
  {
   "cell_type": "code",
   "execution_count": 6,
   "id": "9d072d6d-92ff-4b84-9b43-4532a28925d2",
   "metadata": {},
   "outputs": [],
   "source": [
    "from src.preprocess import VehicleState"
   ]
  },
  {
   "cell_type": "code",
   "execution_count": 7,
   "id": "8746078b-ea52-49e6-ab42-ac62559bbded",
   "metadata": {},
   "outputs": [],
   "source": [
    "mpl.rcParams[\"figure.facecolor\"] = \"w\""
   ]
  },
  {
   "cell_type": "markdown",
   "id": "35c0b20d-a233-4ee2-a109-95ff94ec3c0c",
   "metadata": {},
   "source": [
    "# Read data"
   ]
  },
  {
   "cell_type": "code",
   "execution_count": 8,
   "id": "02a23bd3-7745-47a9-9ff4-dfd987ea08fb",
   "metadata": {},
   "outputs": [],
   "source": [
    "df = pd.read_csv(\"../results/rdb1-fixed/situations.csv\")"
   ]
  },
  {
   "cell_type": "code",
   "execution_count": 9,
   "id": "170bb554-b006-4cd9-a3c0-9ec9c99a6c40",
   "metadata": {},
   "outputs": [],
   "source": [
    "df[\"o2_state\"] = df[\"o2_state\"].map(VehicleState).astype(\"category\")"
   ]
  },
  {
   "cell_type": "code",
   "execution_count": 10,
   "id": "2859a0c3-b837-47d4-a8f0-5b5744ef9463",
   "metadata": {},
   "outputs": [
    {
     "data": {
      "text/html": [
       "<div>\n",
       "<style scoped>\n",
       "    .dataframe tbody tr th:only-of-type {\n",
       "        vertical-align: middle;\n",
       "    }\n",
       "\n",
       "    .dataframe tbody tr th {\n",
       "        vertical-align: top;\n",
       "    }\n",
       "\n",
       "    .dataframe thead th {\n",
       "        text-align: right;\n",
       "    }\n",
       "</style>\n",
       "<table border=\"1\" class=\"dataframe\">\n",
       "  <thead>\n",
       "    <tr style=\"text-align: right;\">\n",
       "      <th></th>\n",
       "      <th>o1_id</th>\n",
       "      <th>o2_id</th>\n",
       "      <th>t</th>\n",
       "      <th>distance</th>\n",
       "      <th>o2_state</th>\n",
       "      <th>o2_timedelta_drive_off</th>\n",
       "      <th>o2_velocity</th>\n",
       "      <th>path_id</th>\n",
       "      <th>measurement</th>\n",
       "      <th>roundabout</th>\n",
       "    </tr>\n",
       "  </thead>\n",
       "  <tbody>\n",
       "    <tr>\n",
       "      <th>0</th>\n",
       "      <td>348</td>\n",
       "      <td>353</td>\n",
       "      <td>555.048166</td>\n",
       "      <td>-2.9558</td>\n",
       "      <td>1</td>\n",
       "      <td>NaN</td>\n",
       "      <td>3.58</td>\n",
       "      <td>0</td>\n",
       "      <td>rdb1_1</td>\n",
       "      <td>rdb1</td>\n",
       "    </tr>\n",
       "    <tr>\n",
       "      <th>1</th>\n",
       "      <td>14</td>\n",
       "      <td>17</td>\n",
       "      <td>8.904500</td>\n",
       "      <td>-1.9507</td>\n",
       "      <td>1</td>\n",
       "      <td>NaN</td>\n",
       "      <td>0.60</td>\n",
       "      <td>2</td>\n",
       "      <td>rdb1_1</td>\n",
       "      <td>rdb1</td>\n",
       "    </tr>\n",
       "    <tr>\n",
       "      <th>2</th>\n",
       "      <td>103</td>\n",
       "      <td>107</td>\n",
       "      <td>159.389167</td>\n",
       "      <td>-5.9846</td>\n",
       "      <td>1</td>\n",
       "      <td>NaN</td>\n",
       "      <td>3.38</td>\n",
       "      <td>2</td>\n",
       "      <td>rdb1_1</td>\n",
       "      <td>rdb1</td>\n",
       "    </tr>\n",
       "    <tr>\n",
       "      <th>3</th>\n",
       "      <td>156</td>\n",
       "      <td>160</td>\n",
       "      <td>279.800000</td>\n",
       "      <td>-2.1739</td>\n",
       "      <td>0</td>\n",
       "      <td>0.9705</td>\n",
       "      <td>0.00</td>\n",
       "      <td>2</td>\n",
       "      <td>rdb1_1</td>\n",
       "      <td>rdb1</td>\n",
       "    </tr>\n",
       "    <tr>\n",
       "      <th>4</th>\n",
       "      <td>223</td>\n",
       "      <td>238</td>\n",
       "      <td>362.753000</td>\n",
       "      <td>0.5398</td>\n",
       "      <td>1</td>\n",
       "      <td>NaN</td>\n",
       "      <td>2.36</td>\n",
       "      <td>2</td>\n",
       "      <td>rdb1_1</td>\n",
       "      <td>rdb1</td>\n",
       "    </tr>\n",
       "  </tbody>\n",
       "</table>\n",
       "</div>"
      ],
      "text/plain": [
       "   o1_id  o2_id           t  distance o2_state  o2_timedelta_drive_off  \\\n",
       "0    348    353  555.048166   -2.9558        1                     NaN   \n",
       "1     14     17    8.904500   -1.9507        1                     NaN   \n",
       "2    103    107  159.389167   -5.9846        1                     NaN   \n",
       "3    156    160  279.800000   -2.1739        0                  0.9705   \n",
       "4    223    238  362.753000    0.5398        1                     NaN   \n",
       "\n",
       "   o2_velocity  path_id measurement roundabout  \n",
       "0         3.58        0      rdb1_1       rdb1  \n",
       "1         0.60        2      rdb1_1       rdb1  \n",
       "2         3.38        2      rdb1_1       rdb1  \n",
       "3         0.00        2      rdb1_1       rdb1  \n",
       "4         2.36        2      rdb1_1       rdb1  "
      ]
     },
     "execution_count": 10,
     "metadata": {},
     "output_type": "execute_result"
    }
   ],
   "source": [
    "df.head()"
   ]
  },
  {
   "cell_type": "code",
   "execution_count": 12,
   "id": "a7e7e733-cd20-45cc-b0c3-a1b33cc4516f",
   "metadata": {},
   "outputs": [
    {
     "data": {
      "text/html": [
       "<div>\n",
       "<style scoped>\n",
       "    .dataframe tbody tr th:only-of-type {\n",
       "        vertical-align: middle;\n",
       "    }\n",
       "\n",
       "    .dataframe tbody tr th {\n",
       "        vertical-align: top;\n",
       "    }\n",
       "\n",
       "    .dataframe thead th {\n",
       "        text-align: right;\n",
       "    }\n",
       "</style>\n",
       "<table border=\"1\" class=\"dataframe\">\n",
       "  <thead>\n",
       "    <tr style=\"text-align: right;\">\n",
       "      <th></th>\n",
       "      <th>o1_id</th>\n",
       "      <th>o2_id</th>\n",
       "      <th>t</th>\n",
       "      <th>distance</th>\n",
       "      <th>o2_state</th>\n",
       "      <th>o2_timedelta_drive_off</th>\n",
       "      <th>o2_velocity</th>\n",
       "      <th>path_id</th>\n",
       "      <th>measurement</th>\n",
       "      <th>roundabout</th>\n",
       "    </tr>\n",
       "  </thead>\n",
       "  <tbody>\n",
       "    <tr>\n",
       "      <th>43</th>\n",
       "      <td>210</td>\n",
       "      <td>213</td>\n",
       "      <td>342.502667</td>\n",
       "      <td>-2.0944</td>\n",
       "      <td>0</td>\n",
       "      <td>1.069667</td>\n",
       "      <td>0.10</td>\n",
       "      <td>13</td>\n",
       "      <td>rdb1_1</td>\n",
       "      <td>rdb1</td>\n",
       "    </tr>\n",
       "    <tr>\n",
       "      <th>68</th>\n",
       "      <td>255</td>\n",
       "      <td>261</td>\n",
       "      <td>415.109166</td>\n",
       "      <td>2.7209</td>\n",
       "      <td>1</td>\n",
       "      <td>NaN</td>\n",
       "      <td>8.02</td>\n",
       "      <td>24</td>\n",
       "      <td>rdb1_1</td>\n",
       "      <td>rdb1</td>\n",
       "    </tr>\n",
       "    <tr>\n",
       "      <th>50</th>\n",
       "      <td>242</td>\n",
       "      <td>245</td>\n",
       "      <td>385.448333</td>\n",
       "      <td>-8.4986</td>\n",
       "      <td>1</td>\n",
       "      <td>NaN</td>\n",
       "      <td>4.45</td>\n",
       "      <td>13</td>\n",
       "      <td>rdb1_1</td>\n",
       "      <td>rdb1</td>\n",
       "    </tr>\n",
       "    <tr>\n",
       "      <th>69</th>\n",
       "      <td>264</td>\n",
       "      <td>266</td>\n",
       "      <td>434.257000</td>\n",
       "      <td>-2.9441</td>\n",
       "      <td>0</td>\n",
       "      <td>0.702500</td>\n",
       "      <td>0.05</td>\n",
       "      <td>24</td>\n",
       "      <td>rdb1_1</td>\n",
       "      <td>rdb1</td>\n",
       "    </tr>\n",
       "    <tr>\n",
       "      <th>63</th>\n",
       "      <td>268</td>\n",
       "      <td>278</td>\n",
       "      <td>437.829500</td>\n",
       "      <td>-4.3314</td>\n",
       "      <td>1</td>\n",
       "      <td>NaN</td>\n",
       "      <td>2.66</td>\n",
       "      <td>22</td>\n",
       "      <td>rdb1_1</td>\n",
       "      <td>rdb1</td>\n",
       "    </tr>\n",
       "    <tr>\n",
       "      <th>11</th>\n",
       "      <td>43</td>\n",
       "      <td>45</td>\n",
       "      <td>63.711333</td>\n",
       "      <td>-0.0185</td>\n",
       "      <td>1</td>\n",
       "      <td>NaN</td>\n",
       "      <td>0.21</td>\n",
       "      <td>3</td>\n",
       "      <td>rdb1_1</td>\n",
       "      <td>rdb1</td>\n",
       "    </tr>\n",
       "    <tr>\n",
       "      <th>1</th>\n",
       "      <td>14</td>\n",
       "      <td>17</td>\n",
       "      <td>8.904500</td>\n",
       "      <td>-1.9507</td>\n",
       "      <td>1</td>\n",
       "      <td>NaN</td>\n",
       "      <td>0.60</td>\n",
       "      <td>2</td>\n",
       "      <td>rdb1_1</td>\n",
       "      <td>rdb1</td>\n",
       "    </tr>\n",
       "    <tr>\n",
       "      <th>8</th>\n",
       "      <td>4</td>\n",
       "      <td>11</td>\n",
       "      <td>4.333333</td>\n",
       "      <td>1.4337</td>\n",
       "      <td>1</td>\n",
       "      <td>NaN</td>\n",
       "      <td>0.44</td>\n",
       "      <td>3</td>\n",
       "      <td>rdb1_1</td>\n",
       "      <td>rdb1</td>\n",
       "    </tr>\n",
       "    <tr>\n",
       "      <th>48</th>\n",
       "      <td>236</td>\n",
       "      <td>240</td>\n",
       "      <td>418.104167</td>\n",
       "      <td>-8.3260</td>\n",
       "      <td>0</td>\n",
       "      <td>2.172499</td>\n",
       "      <td>0.00</td>\n",
       "      <td>13</td>\n",
       "      <td>rdb1_1</td>\n",
       "      <td>rdb1</td>\n",
       "    </tr>\n",
       "    <tr>\n",
       "      <th>41</th>\n",
       "      <td>207</td>\n",
       "      <td>210</td>\n",
       "      <td>340.866667</td>\n",
       "      <td>-1.9907</td>\n",
       "      <td>0</td>\n",
       "      <td>1.636000</td>\n",
       "      <td>0.16</td>\n",
       "      <td>13</td>\n",
       "      <td>rdb1_1</td>\n",
       "      <td>rdb1</td>\n",
       "    </tr>\n",
       "    <tr>\n",
       "      <th>5</th>\n",
       "      <td>256</td>\n",
       "      <td>260</td>\n",
       "      <td>425.211166</td>\n",
       "      <td>0.7465</td>\n",
       "      <td>1</td>\n",
       "      <td>NaN</td>\n",
       "      <td>2.83</td>\n",
       "      <td>2</td>\n",
       "      <td>rdb1_1</td>\n",
       "      <td>rdb1</td>\n",
       "    </tr>\n",
       "    <tr>\n",
       "      <th>65</th>\n",
       "      <td>297</td>\n",
       "      <td>305</td>\n",
       "      <td>484.280166</td>\n",
       "      <td>-3.1001</td>\n",
       "      <td>1</td>\n",
       "      <td>NaN</td>\n",
       "      <td>5.99</td>\n",
       "      <td>22</td>\n",
       "      <td>rdb1_1</td>\n",
       "      <td>rdb1</td>\n",
       "    </tr>\n",
       "    <tr>\n",
       "      <th>52</th>\n",
       "      <td>245</td>\n",
       "      <td>247</td>\n",
       "      <td>420.025167</td>\n",
       "      <td>-2.9487</td>\n",
       "      <td>0</td>\n",
       "      <td>0.169333</td>\n",
       "      <td>0.14</td>\n",
       "      <td>13</td>\n",
       "      <td>rdb1_1</td>\n",
       "      <td>rdb1</td>\n",
       "    </tr>\n",
       "    <tr>\n",
       "      <th>62</th>\n",
       "      <td>235</td>\n",
       "      <td>239</td>\n",
       "      <td>378.537167</td>\n",
       "      <td>0.8524</td>\n",
       "      <td>0</td>\n",
       "      <td>2.537333</td>\n",
       "      <td>0.01</td>\n",
       "      <td>22</td>\n",
       "      <td>rdb1_1</td>\n",
       "      <td>rdb1</td>\n",
       "    </tr>\n",
       "    <tr>\n",
       "      <th>0</th>\n",
       "      <td>348</td>\n",
       "      <td>353</td>\n",
       "      <td>555.048166</td>\n",
       "      <td>-2.9558</td>\n",
       "      <td>1</td>\n",
       "      <td>NaN</td>\n",
       "      <td>3.58</td>\n",
       "      <td>0</td>\n",
       "      <td>rdb1_1</td>\n",
       "      <td>rdb1</td>\n",
       "    </tr>\n",
       "    <tr>\n",
       "      <th>38</th>\n",
       "      <td>153</td>\n",
       "      <td>155</td>\n",
       "      <td>266.961000</td>\n",
       "      <td>0.4716</td>\n",
       "      <td>1</td>\n",
       "      <td>NaN</td>\n",
       "      <td>1.90</td>\n",
       "      <td>13</td>\n",
       "      <td>rdb1_1</td>\n",
       "      <td>rdb1</td>\n",
       "    </tr>\n",
       "    <tr>\n",
       "      <th>37</th>\n",
       "      <td>115</td>\n",
       "      <td>120</td>\n",
       "      <td>180.306833</td>\n",
       "      <td>-1.0000</td>\n",
       "      <td>1</td>\n",
       "      <td>NaN</td>\n",
       "      <td>2.58</td>\n",
       "      <td>13</td>\n",
       "      <td>rdb1_1</td>\n",
       "      <td>rdb1</td>\n",
       "    </tr>\n",
       "    <tr>\n",
       "      <th>39</th>\n",
       "      <td>198</td>\n",
       "      <td>202</td>\n",
       "      <td>336.688167</td>\n",
       "      <td>-2.0531</td>\n",
       "      <td>1</td>\n",
       "      <td>NaN</td>\n",
       "      <td>0.26</td>\n",
       "      <td>13</td>\n",
       "      <td>rdb1_1</td>\n",
       "      <td>rdb1</td>\n",
       "    </tr>\n",
       "    <tr>\n",
       "      <th>15</th>\n",
       "      <td>144</td>\n",
       "      <td>149</td>\n",
       "      <td>260.105333</td>\n",
       "      <td>30.9806</td>\n",
       "      <td>1</td>\n",
       "      <td>NaN</td>\n",
       "      <td>5.94</td>\n",
       "      <td>3</td>\n",
       "      <td>rdb1_1</td>\n",
       "      <td>rdb1</td>\n",
       "    </tr>\n",
       "    <tr>\n",
       "      <th>47</th>\n",
       "      <td>230</td>\n",
       "      <td>233</td>\n",
       "      <td>378.261166</td>\n",
       "      <td>1.6769</td>\n",
       "      <td>1</td>\n",
       "      <td>NaN</td>\n",
       "      <td>1.71</td>\n",
       "      <td>13</td>\n",
       "      <td>rdb1_1</td>\n",
       "      <td>rdb1</td>\n",
       "    </tr>\n",
       "  </tbody>\n",
       "</table>\n",
       "</div>"
      ],
      "text/plain": [
       "    o1_id  o2_id           t  distance o2_state  o2_timedelta_drive_off  \\\n",
       "43    210    213  342.502667   -2.0944        0                1.069667   \n",
       "68    255    261  415.109166    2.7209        1                     NaN   \n",
       "50    242    245  385.448333   -8.4986        1                     NaN   \n",
       "69    264    266  434.257000   -2.9441        0                0.702500   \n",
       "63    268    278  437.829500   -4.3314        1                     NaN   \n",
       "11     43     45   63.711333   -0.0185        1                     NaN   \n",
       "1      14     17    8.904500   -1.9507        1                     NaN   \n",
       "8       4     11    4.333333    1.4337        1                     NaN   \n",
       "48    236    240  418.104167   -8.3260        0                2.172499   \n",
       "41    207    210  340.866667   -1.9907        0                1.636000   \n",
       "5     256    260  425.211166    0.7465        1                     NaN   \n",
       "65    297    305  484.280166   -3.1001        1                     NaN   \n",
       "52    245    247  420.025167   -2.9487        0                0.169333   \n",
       "62    235    239  378.537167    0.8524        0                2.537333   \n",
       "0     348    353  555.048166   -2.9558        1                     NaN   \n",
       "38    153    155  266.961000    0.4716        1                     NaN   \n",
       "37    115    120  180.306833   -1.0000        1                     NaN   \n",
       "39    198    202  336.688167   -2.0531        1                     NaN   \n",
       "15    144    149  260.105333   30.9806        1                     NaN   \n",
       "47    230    233  378.261166    1.6769        1                     NaN   \n",
       "\n",
       "    o2_velocity  path_id measurement roundabout  \n",
       "43         0.10       13      rdb1_1       rdb1  \n",
       "68         8.02       24      rdb1_1       rdb1  \n",
       "50         4.45       13      rdb1_1       rdb1  \n",
       "69         0.05       24      rdb1_1       rdb1  \n",
       "63         2.66       22      rdb1_1       rdb1  \n",
       "11         0.21        3      rdb1_1       rdb1  \n",
       "1          0.60        2      rdb1_1       rdb1  \n",
       "8          0.44        3      rdb1_1       rdb1  \n",
       "48         0.00       13      rdb1_1       rdb1  \n",
       "41         0.16       13      rdb1_1       rdb1  \n",
       "5          2.83        2      rdb1_1       rdb1  \n",
       "65         5.99       22      rdb1_1       rdb1  \n",
       "52         0.14       13      rdb1_1       rdb1  \n",
       "62         0.01       22      rdb1_1       rdb1  \n",
       "0          3.58        0      rdb1_1       rdb1  \n",
       "38         1.90       13      rdb1_1       rdb1  \n",
       "37         2.58       13      rdb1_1       rdb1  \n",
       "39         0.26       13      rdb1_1       rdb1  \n",
       "15         5.94        3      rdb1_1       rdb1  \n",
       "47         1.71       13      rdb1_1       rdb1  "
      ]
     },
     "execution_count": 12,
     "metadata": {},
     "output_type": "execute_result"
    }
   ],
   "source": [
    "df.query(\"measurement == 'rdb1_1'\").sample(20)"
   ]
  },
  {
   "cell_type": "code",
   "execution_count": 11,
   "id": "9e520845-4ebc-4c81-931a-21071c8d574d",
   "metadata": {},
   "outputs": [
    {
     "name": "stdout",
     "output_type": "stream",
     "text": [
      "<class 'pandas.core.frame.DataFrame'>\n",
      "RangeIndex: 4965 entries, 0 to 4964\n",
      "Data columns (total 10 columns):\n",
      " #   Column                  Non-Null Count  Dtype   \n",
      "---  ------                  --------------  -----   \n",
      " 0   o1_id                   4965 non-null   int64   \n",
      " 1   o2_id                   4965 non-null   int64   \n",
      " 2   t                       4965 non-null   float64 \n",
      " 3   distance                4965 non-null   float64 \n",
      " 4   o2_state                4965 non-null   category\n",
      " 5   o2_timedelta_drive_off  1811 non-null   float64 \n",
      " 6   o2_velocity             4965 non-null   float64 \n",
      " 7   path_id                 4965 non-null   int64   \n",
      " 8   measurement             4965 non-null   object  \n",
      " 9   roundabout              4965 non-null   object  \n",
      "dtypes: category(1), float64(4), int64(3), object(2)\n",
      "memory usage: 354.2+ KB\n"
     ]
    }
   ],
   "source": [
    "df.info()"
   ]
  },
  {
   "cell_type": "code",
   "execution_count": 153,
   "id": "56ef7f5e-fd61-40c5-a7bc-356211f548d8",
   "metadata": {},
   "outputs": [
    {
     "data": {
      "text/html": [
       "<div>\n",
       "<style scoped>\n",
       "    .dataframe tbody tr th:only-of-type {\n",
       "        vertical-align: middle;\n",
       "    }\n",
       "\n",
       "    .dataframe tbody tr th {\n",
       "        vertical-align: top;\n",
       "    }\n",
       "\n",
       "    .dataframe thead th {\n",
       "        text-align: right;\n",
       "    }\n",
       "</style>\n",
       "<table border=\"1\" class=\"dataframe\">\n",
       "  <thead>\n",
       "    <tr style=\"text-align: right;\">\n",
       "      <th></th>\n",
       "      <th>o1_id</th>\n",
       "      <th>o2_id</th>\n",
       "      <th>t</th>\n",
       "      <th>distance</th>\n",
       "      <th>o2_timedelta_drive_off</th>\n",
       "      <th>o2_velocity</th>\n",
       "      <th>path_id</th>\n",
       "    </tr>\n",
       "  </thead>\n",
       "  <tbody>\n",
       "    <tr>\n",
       "      <th>count</th>\n",
       "      <td>4965.000000</td>\n",
       "      <td>4965.000000</td>\n",
       "      <td>4965.000000</td>\n",
       "      <td>4965.000000</td>\n",
       "      <td>1811.000000</td>\n",
       "      <td>4965.000000</td>\n",
       "      <td>4965.000000</td>\n",
       "    </tr>\n",
       "    <tr>\n",
       "      <th>mean</th>\n",
       "      <td>13882.459416</td>\n",
       "      <td>13888.042699</td>\n",
       "      <td>261.377951</td>\n",
       "      <td>1.940026</td>\n",
       "      <td>2.549958</td>\n",
       "      <td>1.866091</td>\n",
       "      <td>10.445116</td>\n",
       "    </tr>\n",
       "    <tr>\n",
       "      <th>std</th>\n",
       "      <td>10614.377851</td>\n",
       "      <td>10613.918536</td>\n",
       "      <td>160.360562</td>\n",
       "      <td>12.302399</td>\n",
       "      <td>3.407146</td>\n",
       "      <td>2.453080</td>\n",
       "      <td>7.974833</td>\n",
       "    </tr>\n",
       "    <tr>\n",
       "      <th>min</th>\n",
       "      <td>2.000000</td>\n",
       "      <td>3.000000</td>\n",
       "      <td>0.066667</td>\n",
       "      <td>-109.820600</td>\n",
       "      <td>0.033333</td>\n",
       "      <td>0.000000</td>\n",
       "      <td>0.000000</td>\n",
       "    </tr>\n",
       "    <tr>\n",
       "      <th>25%</th>\n",
       "      <td>4539.000000</td>\n",
       "      <td>4544.000000</td>\n",
       "      <td>118.714666</td>\n",
       "      <td>-2.900500</td>\n",
       "      <td>1.104166</td>\n",
       "      <td>0.050000</td>\n",
       "      <td>3.000000</td>\n",
       "    </tr>\n",
       "    <tr>\n",
       "      <th>50%</th>\n",
       "      <td>9985.000000</td>\n",
       "      <td>9988.000000</td>\n",
       "      <td>260.110500</td>\n",
       "      <td>-1.217800</td>\n",
       "      <td>1.602834</td>\n",
       "      <td>0.780000</td>\n",
       "      <td>13.000000</td>\n",
       "    </tr>\n",
       "    <tr>\n",
       "      <th>75%</th>\n",
       "      <td>23675.000000</td>\n",
       "      <td>23690.000000</td>\n",
       "      <td>398.556667</td>\n",
       "      <td>4.650000</td>\n",
       "      <td>2.543583</td>\n",
       "      <td>2.910000</td>\n",
       "      <td>13.000000</td>\n",
       "    </tr>\n",
       "    <tr>\n",
       "      <th>max</th>\n",
       "      <td>32865.000000</td>\n",
       "      <td>32869.000000</td>\n",
       "      <td>560.883333</td>\n",
       "      <td>112.668600</td>\n",
       "      <td>39.612000</td>\n",
       "      <td>14.150000</td>\n",
       "      <td>28.000000</td>\n",
       "    </tr>\n",
       "  </tbody>\n",
       "</table>\n",
       "</div>"
      ],
      "text/plain": [
       "              o1_id         o2_id            t     distance  \\\n",
       "count   4965.000000   4965.000000  4965.000000  4965.000000   \n",
       "mean   13882.459416  13888.042699   261.377951     1.940026   \n",
       "std    10614.377851  10613.918536   160.360562    12.302399   \n",
       "min        2.000000      3.000000     0.066667  -109.820600   \n",
       "25%     4539.000000   4544.000000   118.714666    -2.900500   \n",
       "50%     9985.000000   9988.000000   260.110500    -1.217800   \n",
       "75%    23675.000000  23690.000000   398.556667     4.650000   \n",
       "max    32865.000000  32869.000000   560.883333   112.668600   \n",
       "\n",
       "       o2_timedelta_drive_off  o2_velocity      path_id  \n",
       "count             1811.000000  4965.000000  4965.000000  \n",
       "mean                 2.549958     1.866091    10.445116  \n",
       "std                  3.407146     2.453080     7.974833  \n",
       "min                  0.033333     0.000000     0.000000  \n",
       "25%                  1.104166     0.050000     3.000000  \n",
       "50%                  1.602834     0.780000    13.000000  \n",
       "75%                  2.543583     2.910000    13.000000  \n",
       "max                 39.612000    14.150000    28.000000  "
      ]
     },
     "execution_count": 153,
     "metadata": {},
     "output_type": "execute_result"
    }
   ],
   "source": [
    "df.describe()"
   ]
  },
  {
   "cell_type": "code",
   "execution_count": 154,
   "id": "d98ce09e-7a7c-463b-ae6f-8b46caeb038e",
   "metadata": {},
   "outputs": [
    {
     "data": {
      "image/png": "[encoded data removed]",
      "text/plain": [
       "<Figure size 432x288 with 1 Axes>"
      ]
     },
     "metadata": {},
     "output_type": "display_data"
    }
   ],
   "source": [
    "plt.figure()\n",
    "sns.histplot(df[\"o2_timedelta_drive_off\"])\n",
    "plt.grid()"
   ]
  },
  {
   "cell_type": "markdown",
   "id": "9db1ec7a-50d0-4618-9692-6155c266c397",
   "metadata": {
    "tags": []
   },
   "source": [
    "# Analyse"
   ]
  },
  {
   "cell_type": "code",
   "execution_count": 155,
   "id": "0bd480cb-9b14-486d-8296-f04859c5ede8",
   "metadata": {},
   "outputs": [],
   "source": [
    "DISTANCE = 10"
   ]
  },
  {
   "cell_type": "code",
   "execution_count": 156,
   "id": "1335d295-bd34-4500-8626-94c458ed57c8",
   "metadata": {},
   "outputs": [],
   "source": [
    "df_nearby = df[df[\"distance\"] < DISTANCE]"
   ]
  },
  {
   "cell_type": "markdown",
   "id": "db4beecb-7f93-4aa1-acb1-346f39bd223a",
   "metadata": {},
   "source": [
    "Number of vehicles which are standing vs already moving"
   ]
  },
  {
   "cell_type": "code",
   "execution_count": 157,
   "id": "63f25916-1a06-4b7c-94db-c59f363af938",
   "metadata": {},
   "outputs": [
    {
     "data": {
      "text/plain": [
       "1    2604\n",
       "0    1717\n",
       "Name: o2_state, dtype: int64"
      ]
     },
     "execution_count": 157,
     "metadata": {},
     "output_type": "execute_result"
    }
   ],
   "source": [
    "df_nearby[\"o2_state\"].value_counts()"
   ]
  },
  {
   "cell_type": "code",
   "execution_count": 158,
   "id": "f0bb642d-1aa0-4764-98ac-905df3f6015d",
   "metadata": {},
   "outputs": [],
   "source": [
    "proportion_o2_state = df_nearby[\"o2_state\"].value_counts()/len(df_nearby)\n",
    "proportion_o2_state.index = proportion_o2_state.index.map(lambda x: VehicleState(x).name)"
   ]
  },
  {
   "cell_type": "code",
   "execution_count": 159,
   "id": "fafb076f-ac3c-4e4e-b380-897532ae9540",
   "metadata": {},
   "outputs": [
    {
     "data": {
      "text/plain": [
       "Text(0.5, 1.0, 'Behaviour of the following vehicle')"
      ]
     },
     "execution_count": 159,
     "metadata": {},
     "output_type": "execute_result"
    },
    {
     "data": {
      "image/png": "[encoded data removed]",
      "text/plain": [
       "<Figure size 720x720 with 1 Axes>"
      ]
     },
     "metadata": {},
     "output_type": "display_data"
    }
   ],
   "source": [
    "def render_label(pct: float) -> str:\n",
    "    n = math.ceil(pct/100*len(df_nearby))\n",
    "    return f\"{pct:.0f}% ({n:d})\"\n",
    "\n",
    "plt.figure(figsize=(10, 10))\n",
    "plt.pie(proportion_o2_state, labels=proportion_o2_state.index, autopct=render_label, explode=[0, 0.05], textprops={\"fontsize\": 15})\n",
    "plt.title(\"Behaviour of the following vehicle\", fontdict={\"fontsize\": 20})"
   ]
  },
  {
   "cell_type": "markdown",
   "id": "a9f415b9-5e0d-4cd1-a8b5-de89041c4312",
   "metadata": {},
   "source": [
    "## O2 is drivingVehicleState"
   ]
  },
  {
   "cell_type": "code",
   "execution_count": 160,
   "id": "6b9be121-2621-414f-a1cd-10ad72cc7b67",
   "metadata": {},
   "outputs": [],
   "source": [
    "df_nearby_and_moving = df_nearby[df_nearby[\"o2_state\"] == VehicleState.DRIVING]"
   ]
  },
  {
   "cell_type": "code",
   "execution_count": 161,
   "id": "7780cbd4-2e89-4c0e-b3b0-19f6fc6a19ff",
   "metadata": {},
   "outputs": [
    {
     "data": {
      "image/png": "[encoded data removed]",
      "text/plain": [
       "<Figure size 432x288 with 1 Axes>"
      ]
     },
     "metadata": {},
     "output_type": "display_data"
    }
   ],
   "source": [
    "plt.figure()\n",
    "sns.histplot(df[\"o2_velocity\"]*3.6)\n",
    "plt.grid()"
   ]
  },
  {
   "cell_type": "markdown",
   "id": "c7b3c15c-9482-49ca-bb41-fe40d6690c92",
   "metadata": {},
   "source": [
    "## O2 is waiting"
   ]
  },
  {
   "cell_type": "code",
   "execution_count": 162,
   "id": "90b496b3-e50a-4610-8b25-6599c2a0716b",
   "metadata": {},
   "outputs": [],
   "source": [
    "df_nearby_and_standing = df_nearby[df_nearby[\"o2_state\"] == VehicleState.STANDING]"
   ]
  },
  {
   "cell_type": "code",
   "execution_count": 163,
   "id": "b9bcda67-3747-41ef-8dfc-38feb8bd183e",
   "metadata": {},
   "outputs": [
    {
     "data": {
      "text/plain": [
       "count    1717.000000\n",
       "mean        2.386170\n",
       "std         3.302990\n",
       "min         0.033333\n",
       "25%         1.101834\n",
       "50%         1.568833\n",
       "75%         2.403667\n",
       "max        39.612000\n",
       "Name: o2_timedelta_drive_off, dtype: float64"
      ]
     },
     "execution_count": 163,
     "metadata": {},
     "output_type": "execute_result"
    }
   ],
   "source": [
    "df_nearby_and_standing[\"o2_timedelta_drive_off\"].describe()"
   ]
  },
  {
   "cell_type": "code",
   "execution_count": 164,
   "id": "646244be-09c9-4200-b89a-ad12b2e8587f",
   "metadata": {},
   "outputs": [
    {
     "data": {
      "text/plain": [
       "Text(0.5, 17.200000000000003, 'time after first vehicle moved [s]')"
      ]
     },
     "execution_count": 164,
     "metadata": {},
     "output_type": "execute_result"
    },
    {
     "data": {
      "image/png": "[encoded data removed]",
      "text/plain": [
       "<Figure size 1080x720 with 2 Axes>"
      ]
     },
     "metadata": {},
     "output_type": "display_data"
    }
   ],
   "source": [
    "fig = plt.figure(constrained_layout=True, figsize=(15, 10))\n",
    "gs = plt.GridSpec(3, 1, figure=fig)\n",
    "\n",
    "ax1 = fig.add_subplot(gs[:2, 0])\n",
    "ax2 = fig.add_subplot(gs[-1, 0])\n",
    "\n",
    "sns.histplot(df_nearby_and_standing[\"o2_timedelta_drive_off\"], ax=ax1, kde=True, stat=\"density\")\n",
    "sns.boxplot(x = df_nearby_and_standing[\"o2_timedelta_drive_off\"], ax=ax2)\n",
    "for ax in [ax1, ax2]:\n",
    "    ax.set_xlim(0, 10)\n",
    "    ax.grid()\n",
    "    ax.set_xticks(np.arange(0, 10, 1))\n",
    "    # ax.set_axis_off()\n",
    "\n",
    "axs[-1].set_xlabel(\"time after first vehicle moved [s]\")"
   ]
  },
  {
   "cell_type": "code",
   "execution_count": 165,
   "id": "37f48738-27b7-4409-b355-13d38c17178e",
   "metadata": {},
   "outputs": [
    {
     "data": {
      "image/png": "[encoded data removed]",
      "text/plain": [
       "<Figure size 1000x500 with 1 Axes>"
      ]
     },
     "metadata": {},
     "output_type": "display_data"
    }
   ],
   "source": [
    "plt.figure(figsize=(10, 5), dpi=100)\n",
    "sns.histplot(df_nearby_and_standing[\"o2_timedelta_drive_off\"], kde=True, stat=\"density\", line_kws={\"lw\": 5})\n",
    "# plt.grid()\n",
    "plt.xlabel(\"time after first vehicle moved [s]\")\n",
    "plt.xlim(0, 5)\n",
    "plt.box(False)\n",
    "plt.ylabel(\"\")\n",
    "plt.yticks([])\n",
    "plt.xticks(np.arange(0, 5.1, 1));"
   ]
  },
  {
   "cell_type": "code",
   "execution_count": 166,
   "id": "6c79a7b4-9a58-4798-beb3-38da53720c56",
   "metadata": {},
   "outputs": [
    {
     "data": {
      "text/plain": [
       "([], [])"
      ]
     },
     "execution_count": 166,
     "metadata": {},
     "output_type": "execute_result"
    },
    {
     "data": {
      "image/png": "[encoded data removed]",
      "text/plain": [
       "<Figure size 1000x500 with 1 Axes>"
      ]
     },
     "metadata": {},
     "output_type": "display_data"
    }
   ],
   "source": [
    "plt.figure(figsize=(10, 5), dpi=100)\n",
    "sns.histplot(df_nearby_and_standing[\"distance\"]-5, kde=True, line_kws={\"lw\": 5})\n",
    "# plt.grid()\n",
    "plt.xlabel(\"distance [m]\")\n",
    "plt.ylabel(\"\")\n",
    "plt.title(\"Distance between the vehicles while waiting\")\n",
    "plt.xlim(0, 5)\n",
    "plt.box(False)\n",
    "plt.yticks([])\n",
    "# plt.tick_params(axis='y', left='off', top='off', right='off', bottom='off', labelleft='off', labeltop='off', labelright='off', labelbottom='off')"
   ]
  },
  {
   "cell_type": "code",
   "execution_count": null,
   "id": "887827fb-6cf8-468e-8478-b563827d92dd",
   "metadata": {},
   "outputs": [],
   "source": []
  }
 ],
 "metadata": {
  "kernelspec": {
   "display_name": "Python 3 (ipykernel)",
   "language": "python",
   "name": "python3"
  },
  "language_info": {
   "codemirror_mode": {
    "name": "ipython",
    "version": 3
   },
   "file_extension": ".py",
   "mimetype": "text/x-python",
   "name": "python",
   "nbconvert_exporter": "python",
   "pygments_lexer": "ipython3",
   "version": "3.9.10"
  }
 },
 "nbformat": 4,
 "nbformat_minor": 5
}
